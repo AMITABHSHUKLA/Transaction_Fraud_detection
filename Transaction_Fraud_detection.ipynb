{
 "cells": [
  {
   "cell_type": "markdown",
   "id": "e52ea7c3",
   "metadata": {},
   "source": [
    "# Transaction Analysis\n",
    "Fraud analysis is crucial due to the rising incidence of fraud in transactions, aiming to detect patterns and anomalies. It helps mitigate risks, ensuring financial security and compliance with regulations. Enhancing customer trust is vital by demonstrating a commitment to secure transactions. Operational efficiency improves through streamlined processes and resource optimization. The financial industry faces challenges with the increasing complexity of digital transactions. Data-driven insights enable informed decisions for continuous improvement in fraud prevention. Adaptation to evolving threats is essential to stay ahead in the dynamic landscape of financial transactions."
   ]
  },
  {
   "cell_type": "markdown",
   "id": "580d9311",
   "metadata": {},
   "source": [
    "## Dictionary\n",
    "* **step** - maps a unit of time in the real world. In this case 1 step is 1 hour of time. Total steps 744 (30 days simulation).\n",
    "\n",
    "* **type** - CASH-IN, CASH-OUT, DEBIT, PAYMENT and TRANSFER.\n",
    "\n",
    "* **amount** - amount of the transaction in local currency.\n",
    "\n",
    "* **nameOrig** - customer who started the transaction\n",
    "\n",
    "* **oldbalanceOrg** - initial balance before the transaction\n",
    "\n",
    "* **newbalanceOrig** - new balance after the transaction\n",
    "\n",
    "* **nameDest** - customer who is the recipient of the transaction\n",
    "\n",
    "* **oldbalanceDest** - initial balance recipient before the transaction. Note that there is not information for customers that start with M (Merchants).\n",
    "\n",
    "* **newbalanceDest** - new balance recipient after the transaction. Note that there is not information for customers that start with M (Merchants).\n",
    "\n",
    "* **isFraud** - This is the transactions made by the fraudulent agents inside the simulation. In this specific dataset the fraudulent behavior of the agents aims to profit by taking control or customers accounts and try to empty the funds by transferring to another account and then cashing out of the system.\n",
    "\n",
    "* **isFlaggedFraud** - The business model aims to control massive transfers from one account to another and flags illegal attempts. An illegal attempt in this dataset is an attempt to transfer more than 200.000 in a single transaction."
   ]
  },
  {
   "cell_type": "markdown",
   "id": "1e6f63e6",
   "metadata": {},
   "source": [
    "# Procedure \n",
    "## How we proceed the Transaction Fraud analysis.\n",
    "### Data Exploration\n",
    "\n",
    "**Step 1: Uniques & NAs**\n",
    "\n",
    "**Objective:** To know if there is any duplicate data and if at all there are any missing values.\n",
    "\n",
    "* Unique Values:\n",
    "\n",
    " 1.Pick out how many different values each column has.\n",
    " \n",
    "\n",
    "* Null Values:\n",
    "\n",
    " 1.Check whether the fields have missing data in them or not.\n",
    "\n",
    " 2.Find out if the missing data is important in our analysis.\n",
    "\n",
    "**Step 2: Distribution Among Classes**\n",
    "\n",
    "**Objective:** Check percentage split between normal and fraud transactions.\n",
    "\n",
    "* Class Distribution:\n",
    "\n",
    " 1.Number of classes represented by transactions needs to be counted.\n",
    "\n",
    " 2.Make a bar graph that simply shows how different normal transactions are from fraud cases graphically represented by a bar    chart.\n",
    "\n",
    "**Step 3: Amount Transfer Per Class**\n",
    "\n",
    "**Objective: How much money is involved in various types of transactions?**\n",
    "\n",
    "* Amount Distribution:\n",
    "\n",
    " 1.Adding up the amounts for each group is essential.\n",
    "\n",
    " 2.Show on a bar chart what would be the financial impact of fraud versus normal transactions.\n",
    "\n",
    "**Step 4: Distribution Among Classes for Flagged Fraud**\n",
    "\n",
    "**Objective:** Transactions identified as frauds through flagging\n",
    "\n",
    "* Flagged Fraud Distribution:\n",
    "\n",
    " 1.Find out how many among the given number of cases were flagged as fraud by an existing system.\n",
    "\n",
    " 2.Revisit class distribution methodology while considering flagged fraud.\n",
    " \n",
    "**Step 5: Amount Transfer Per Class for Flagged Fraud**\n",
    "**Objective:** Understand the money involved in transactions flagged as fraud.\n",
    "\n",
    "* Flagged Fraud Amount Distribution:\n",
    " 1.Sum up the amounts for transactions flagged as fraud.\n",
    " 2.Visualize with a bar chart to see the financial impact of flagged fraud transactions.\n",
    "\n",
    "**Step 6: Cash Flows from Various Transactions**\n",
    "**Objective:** Understand how money moves around in different types of transactions.\n",
    "\n",
    "* Cash Flow Analysis:\n",
    " 1.Look at the flow of money for each type of transaction.\n",
    " 2.Identify patterns and anomalies in the movement of funds.\n",
    "\n",
    "**Step 7: Major Types Involved in Fraud**\n",
    "**Objective:** Identify the main types of transactions associated with fraud.\n",
    "\n",
    "* Fraud Type Identification:\n",
    " 1.Analyze which types of transactions are frequently associated with fraud.\n",
    " 2.Identify patterns or common characteristics of fraudulent transactions.\n",
    " \n",
    "**Step 8: Concise Data - Remove Unwanted Columns**\n",
    "**Objective:** Streamline the dataset by removing unnecessary columns.\n",
    "\n",
    "* Identify Unwanted Columns:\n",
    "\n",
    " 1.Look for columns that do not contribute significantly to the analysis or contain redundant information.\n",
    "\n",
    "**Step 9: Likelihood of Fraud - Recipient vs. Initiator**\n",
    "**Objective:** Understand if the recipient or initiator of a transaction is more likely to engage in fraud.\n",
    "\n",
    "* Fraud Likelihood Analysis:\n",
    "\n",
    " 1.Consider creating a new feature indicating whether the recipient or initiator is involved in the fraud.\n",
    "   Analyze the distribution of fraud cases based on this new feature.\n",
    "* Visualize the Results:\n",
    "\n",
    " 1.Use visualizations bar charts to compare the likelihood of fraud between recipients and initiators.\n",
    "   This provides insight into which party is more frequently associated with fraudulent activities.\n",
    "   \n",
    "### Accuracy by existing Fraud detector\n",
    "\n",
    "Evaluate the performance of the current fraud detector using custom accuracy functions and a confusion matrix. Identify True Positives (TP), True Negatives (TN), False Positives (FP), and False Negatives (FN). Utilize custom functions for Accuracy, Precision, Recall, and F1 Score. Create a confusion matrix for visual representation. Apply the fraud detector to a test set and calculate accuracy metrics to gain insights into its effectiveness.\n",
    "\n",
    "### Data Pre-Processing\n",
    "Perform the nessesary processing on data to make data ready for ML Models.\n",
    "\n",
    "### Generating Sample Data from the fraud data \n",
    "Generating sample data from fraud data is done to expedite the training of machine learning models and streamline the fine-tuning process.\n",
    "By using a sample, machine learning models can be trained more efficiently and fine-tuned with less computational burden, while still capturing the essential characteristics of the data.\n",
    "\n",
    "### ML Models\n",
    "#### Train ML models for better Fraud detections.\n",
    "##### Algorithm used :\n",
    "**1. KNN**\n",
    "\n",
    "**2. SVM**\n",
    "\n",
    "**3. Logistic Regression**\n",
    "\n",
    "**4. Random Forest Classification**\n",
    "\n",
    "### Train the Best Performing Models on Entire Dataset.\n",
    "##### Finally we Trained The best performing model on the entire dataset and obtain a better performing fraud detector than the exsisting one.\n",
    "\n"
   ]
  },
  {
   "cell_type": "markdown",
   "id": "5183f2aa",
   "metadata": {},
   "source": [
    "# DATA EXPLORATION"
   ]
  },
  {
   "cell_type": "code",
   "execution_count": 1,
   "id": "e5e47c05",
   "metadata": {},
   "outputs": [
    {
     "name": "stderr",
     "output_type": "stream",
     "text": [
      "C:\\Users\\Lenovo\\anaconda3\\lib\\site-packages\\scipy\\__init__.py:138: UserWarning: A NumPy version >=1.16.5 and <1.23.0 is required for this version of SciPy (detected version 1.24.4)\n",
      "  warnings.warn(f\"A NumPy version >={np_minversion} and <{np_maxversion} is required for this version of \"\n"
     ]
    }
   ],
   "source": [
    "import pandas as pd \n",
    "import numpy as np\n",
    "import seaborn as sns\n",
    "import plotly.express as px\n",
    "import matplotlib.pyplot as plt"
   ]
  },
  {
   "cell_type": "code",
   "execution_count": 2,
   "id": "1a37828a",
   "metadata": {},
   "outputs": [],
   "source": [
    "fraud_data = pd.read_csv(\"Fraud.csv\")"
   ]
  },
  {
   "cell_type": "code",
   "execution_count": 3,
   "id": "bc87fde0",
   "metadata": {},
   "outputs": [
    {
     "data": {
      "text/html": [
       "<div>\n",
       "<style scoped>\n",
       "    .dataframe tbody tr th:only-of-type {\n",
       "        vertical-align: middle;\n",
       "    }\n",
       "\n",
       "    .dataframe tbody tr th {\n",
       "        vertical-align: top;\n",
       "    }\n",
       "\n",
       "    .dataframe thead th {\n",
       "        text-align: right;\n",
       "    }\n",
       "</style>\n",
       "<table border=\"1\" class=\"dataframe\">\n",
       "  <thead>\n",
       "    <tr style=\"text-align: right;\">\n",
       "      <th></th>\n",
       "      <th>step</th>\n",
       "      <th>type</th>\n",
       "      <th>amount</th>\n",
       "      <th>nameOrig</th>\n",
       "      <th>oldbalanceOrg</th>\n",
       "      <th>newbalanceOrig</th>\n",
       "      <th>nameDest</th>\n",
       "      <th>oldbalanceDest</th>\n",
       "      <th>newbalanceDest</th>\n",
       "      <th>isFraud</th>\n",
       "      <th>isFlaggedFraud</th>\n",
       "    </tr>\n",
       "  </thead>\n",
       "  <tbody>\n",
       "    <tr>\n",
       "      <th>0</th>\n",
       "      <td>1</td>\n",
       "      <td>PAYMENT</td>\n",
       "      <td>9839.64</td>\n",
       "      <td>C1231006815</td>\n",
       "      <td>170136.0</td>\n",
       "      <td>160296.36</td>\n",
       "      <td>M1979787155</td>\n",
       "      <td>0.0</td>\n",
       "      <td>0.0</td>\n",
       "      <td>0</td>\n",
       "      <td>0</td>\n",
       "    </tr>\n",
       "    <tr>\n",
       "      <th>1</th>\n",
       "      <td>1</td>\n",
       "      <td>PAYMENT</td>\n",
       "      <td>1864.28</td>\n",
       "      <td>C1666544295</td>\n",
       "      <td>21249.0</td>\n",
       "      <td>19384.72</td>\n",
       "      <td>M2044282225</td>\n",
       "      <td>0.0</td>\n",
       "      <td>0.0</td>\n",
       "      <td>0</td>\n",
       "      <td>0</td>\n",
       "    </tr>\n",
       "    <tr>\n",
       "      <th>2</th>\n",
       "      <td>1</td>\n",
       "      <td>TRANSFER</td>\n",
       "      <td>181.00</td>\n",
       "      <td>C1305486145</td>\n",
       "      <td>181.0</td>\n",
       "      <td>0.00</td>\n",
       "      <td>C553264065</td>\n",
       "      <td>0.0</td>\n",
       "      <td>0.0</td>\n",
       "      <td>1</td>\n",
       "      <td>0</td>\n",
       "    </tr>\n",
       "    <tr>\n",
       "      <th>3</th>\n",
       "      <td>1</td>\n",
       "      <td>CASH_OUT</td>\n",
       "      <td>181.00</td>\n",
       "      <td>C840083671</td>\n",
       "      <td>181.0</td>\n",
       "      <td>0.00</td>\n",
       "      <td>C38997010</td>\n",
       "      <td>21182.0</td>\n",
       "      <td>0.0</td>\n",
       "      <td>1</td>\n",
       "      <td>0</td>\n",
       "    </tr>\n",
       "    <tr>\n",
       "      <th>4</th>\n",
       "      <td>1</td>\n",
       "      <td>PAYMENT</td>\n",
       "      <td>11668.14</td>\n",
       "      <td>C2048537720</td>\n",
       "      <td>41554.0</td>\n",
       "      <td>29885.86</td>\n",
       "      <td>M1230701703</td>\n",
       "      <td>0.0</td>\n",
       "      <td>0.0</td>\n",
       "      <td>0</td>\n",
       "      <td>0</td>\n",
       "    </tr>\n",
       "  </tbody>\n",
       "</table>\n",
       "</div>"
      ],
      "text/plain": [
       "   step      type    amount     nameOrig  oldbalanceOrg  newbalanceOrig  \\\n",
       "0     1   PAYMENT   9839.64  C1231006815       170136.0       160296.36   \n",
       "1     1   PAYMENT   1864.28  C1666544295        21249.0        19384.72   \n",
       "2     1  TRANSFER    181.00  C1305486145          181.0            0.00   \n",
       "3     1  CASH_OUT    181.00   C840083671          181.0            0.00   \n",
       "4     1   PAYMENT  11668.14  C2048537720        41554.0        29885.86   \n",
       "\n",
       "      nameDest  oldbalanceDest  newbalanceDest  isFraud  isFlaggedFraud  \n",
       "0  M1979787155             0.0             0.0        0               0  \n",
       "1  M2044282225             0.0             0.0        0               0  \n",
       "2   C553264065             0.0             0.0        1               0  \n",
       "3    C38997010         21182.0             0.0        1               0  \n",
       "4  M1230701703             0.0             0.0        0               0  "
      ]
     },
     "execution_count": 3,
     "metadata": {},
     "output_type": "execute_result"
    }
   ],
   "source": [
    "fraud_data.head()"
   ]
  },
  {
   "cell_type": "markdown",
   "id": "1bf0e1db",
   "metadata": {},
   "source": [
    "**Step 1: Uniques & NAs**"
   ]
  },
  {
   "cell_type": "code",
   "execution_count": 4,
   "id": "474eaf1f",
   "metadata": {},
   "outputs": [
    {
     "data": {
      "text/plain": [
       "step                  743\n",
       "type                    5\n",
       "amount            5316900\n",
       "nameOrig          6353307\n",
       "oldbalanceOrg     1845844\n",
       "newbalanceOrig    2682586\n",
       "nameDest          2722362\n",
       "oldbalanceDest    3614697\n",
       "newbalanceDest    3555499\n",
       "isFraud                 2\n",
       "isFlaggedFraud          2\n",
       "dtype: int64"
      ]
     },
     "execution_count": 4,
     "metadata": {},
     "output_type": "execute_result"
    }
   ],
   "source": [
    "fraud_data.nunique()"
   ]
  },
  {
   "cell_type": "code",
   "execution_count": 5,
   "id": "d490481b",
   "metadata": {},
   "outputs": [
    {
     "data": {
      "text/plain": [
       "False"
      ]
     },
     "execution_count": 5,
     "metadata": {},
     "output_type": "execute_result"
    }
   ],
   "source": [
    "fraud_data.isnull().values.any()"
   ]
  },
  {
   "cell_type": "code",
   "execution_count": 6,
   "id": "5911ed01",
   "metadata": {},
   "outputs": [
    {
     "data": {
      "text/html": [
       "<div>\n",
       "<style scoped>\n",
       "    .dataframe tbody tr th:only-of-type {\n",
       "        vertical-align: middle;\n",
       "    }\n",
       "\n",
       "    .dataframe tbody tr th {\n",
       "        vertical-align: top;\n",
       "    }\n",
       "\n",
       "    .dataframe thead th {\n",
       "        text-align: right;\n",
       "    }\n",
       "</style>\n",
       "<table border=\"1\" class=\"dataframe\">\n",
       "  <thead>\n",
       "    <tr style=\"text-align: right;\">\n",
       "      <th></th>\n",
       "      <th>step</th>\n",
       "      <th>amount</th>\n",
       "      <th>oldbalanceOrg</th>\n",
       "      <th>newbalanceOrig</th>\n",
       "      <th>oldbalanceDest</th>\n",
       "      <th>newbalanceDest</th>\n",
       "      <th>isFraud</th>\n",
       "      <th>isFlaggedFraud</th>\n",
       "    </tr>\n",
       "  </thead>\n",
       "  <tbody>\n",
       "    <tr>\n",
       "      <th>count</th>\n",
       "      <td>6.362620e+06</td>\n",
       "      <td>6.362620e+06</td>\n",
       "      <td>6.362620e+06</td>\n",
       "      <td>6.362620e+06</td>\n",
       "      <td>6.362620e+06</td>\n",
       "      <td>6.362620e+06</td>\n",
       "      <td>6.362620e+06</td>\n",
       "      <td>6.362620e+06</td>\n",
       "    </tr>\n",
       "    <tr>\n",
       "      <th>mean</th>\n",
       "      <td>2.433972e+02</td>\n",
       "      <td>1.798619e+05</td>\n",
       "      <td>8.338831e+05</td>\n",
       "      <td>8.551137e+05</td>\n",
       "      <td>1.100702e+06</td>\n",
       "      <td>1.224996e+06</td>\n",
       "      <td>1.290820e-03</td>\n",
       "      <td>2.514687e-06</td>\n",
       "    </tr>\n",
       "    <tr>\n",
       "      <th>std</th>\n",
       "      <td>1.423320e+02</td>\n",
       "      <td>6.038582e+05</td>\n",
       "      <td>2.888243e+06</td>\n",
       "      <td>2.924049e+06</td>\n",
       "      <td>3.399180e+06</td>\n",
       "      <td>3.674129e+06</td>\n",
       "      <td>3.590480e-02</td>\n",
       "      <td>1.585775e-03</td>\n",
       "    </tr>\n",
       "    <tr>\n",
       "      <th>min</th>\n",
       "      <td>1.000000e+00</td>\n",
       "      <td>0.000000e+00</td>\n",
       "      <td>0.000000e+00</td>\n",
       "      <td>0.000000e+00</td>\n",
       "      <td>0.000000e+00</td>\n",
       "      <td>0.000000e+00</td>\n",
       "      <td>0.000000e+00</td>\n",
       "      <td>0.000000e+00</td>\n",
       "    </tr>\n",
       "    <tr>\n",
       "      <th>25%</th>\n",
       "      <td>1.560000e+02</td>\n",
       "      <td>1.338957e+04</td>\n",
       "      <td>0.000000e+00</td>\n",
       "      <td>0.000000e+00</td>\n",
       "      <td>0.000000e+00</td>\n",
       "      <td>0.000000e+00</td>\n",
       "      <td>0.000000e+00</td>\n",
       "      <td>0.000000e+00</td>\n",
       "    </tr>\n",
       "    <tr>\n",
       "      <th>50%</th>\n",
       "      <td>2.390000e+02</td>\n",
       "      <td>7.487194e+04</td>\n",
       "      <td>1.420800e+04</td>\n",
       "      <td>0.000000e+00</td>\n",
       "      <td>1.327057e+05</td>\n",
       "      <td>2.146614e+05</td>\n",
       "      <td>0.000000e+00</td>\n",
       "      <td>0.000000e+00</td>\n",
       "    </tr>\n",
       "    <tr>\n",
       "      <th>75%</th>\n",
       "      <td>3.350000e+02</td>\n",
       "      <td>2.087215e+05</td>\n",
       "      <td>1.073152e+05</td>\n",
       "      <td>1.442584e+05</td>\n",
       "      <td>9.430367e+05</td>\n",
       "      <td>1.111909e+06</td>\n",
       "      <td>0.000000e+00</td>\n",
       "      <td>0.000000e+00</td>\n",
       "    </tr>\n",
       "    <tr>\n",
       "      <th>max</th>\n",
       "      <td>7.430000e+02</td>\n",
       "      <td>9.244552e+07</td>\n",
       "      <td>5.958504e+07</td>\n",
       "      <td>4.958504e+07</td>\n",
       "      <td>3.560159e+08</td>\n",
       "      <td>3.561793e+08</td>\n",
       "      <td>1.000000e+00</td>\n",
       "      <td>1.000000e+00</td>\n",
       "    </tr>\n",
       "  </tbody>\n",
       "</table>\n",
       "</div>"
      ],
      "text/plain": [
       "               step        amount  oldbalanceOrg  newbalanceOrig  \\\n",
       "count  6.362620e+06  6.362620e+06   6.362620e+06    6.362620e+06   \n",
       "mean   2.433972e+02  1.798619e+05   8.338831e+05    8.551137e+05   \n",
       "std    1.423320e+02  6.038582e+05   2.888243e+06    2.924049e+06   \n",
       "min    1.000000e+00  0.000000e+00   0.000000e+00    0.000000e+00   \n",
       "25%    1.560000e+02  1.338957e+04   0.000000e+00    0.000000e+00   \n",
       "50%    2.390000e+02  7.487194e+04   1.420800e+04    0.000000e+00   \n",
       "75%    3.350000e+02  2.087215e+05   1.073152e+05    1.442584e+05   \n",
       "max    7.430000e+02  9.244552e+07   5.958504e+07    4.958504e+07   \n",
       "\n",
       "       oldbalanceDest  newbalanceDest       isFraud  isFlaggedFraud  \n",
       "count    6.362620e+06    6.362620e+06  6.362620e+06    6.362620e+06  \n",
       "mean     1.100702e+06    1.224996e+06  1.290820e-03    2.514687e-06  \n",
       "std      3.399180e+06    3.674129e+06  3.590480e-02    1.585775e-03  \n",
       "min      0.000000e+00    0.000000e+00  0.000000e+00    0.000000e+00  \n",
       "25%      0.000000e+00    0.000000e+00  0.000000e+00    0.000000e+00  \n",
       "50%      1.327057e+05    2.146614e+05  0.000000e+00    0.000000e+00  \n",
       "75%      9.430367e+05    1.111909e+06  0.000000e+00    0.000000e+00  \n",
       "max      3.560159e+08    3.561793e+08  1.000000e+00    1.000000e+00  "
      ]
     },
     "execution_count": 6,
     "metadata": {},
     "output_type": "execute_result"
    }
   ],
   "source": [
    "fraud_data.describe()"
   ]
  },
  {
   "cell_type": "markdown",
   "id": "8bf543a2",
   "metadata": {},
   "source": [
    "**Step 2: Distribution Among Classes**"
   ]
  },
  {
   "cell_type": "code",
   "execution_count": 7,
   "id": "eea494db",
   "metadata": {},
   "outputs": [
    {
     "name": "stdout",
     "output_type": "stream",
     "text": [
      "Number of normal Transactions : 6354407 | Number of Fraud Transactions : 8213\n"
     ]
    },
    {
     "data": {
      "text/plain": [
       "Text(0, 0.5, 'Frequency')"
      ]
     },
     "execution_count": 7,
     "metadata": {},
     "output_type": "execute_result"
    },
    {
     "data": {
      "image/png": "[encoded data removed]",
      "text/plain": [
       "<Figure size 432x288 with 1 Axes>"
      ]
     },
     "metadata": {
      "needs_background": "light"
     },
     "output_type": "display_data"
    }
   ],
   "source": [
    "count_classes = pd.value_counts(fraud_data['isFraud'], sort = True)\n",
    "print(f\"Number of normal Transactions : {count_classes[0]} | Number of Fraud Transactions : {count_classes[1]}\")\n",
    "color = ['blue', 'red'] \n",
    "count_classes.plot(kind = 'bar', rot=0,color = color)\n",
    "plt.title(\"Transaction Class Distribution\")\n",
    "plt.xlabel(\"Class\")\n",
    "plt.ylabel(\"Frequency\")"
   ]
  },
  {
   "cell_type": "markdown",
   "id": "25179899",
   "metadata": {},
   "source": [
    "* **Number of normal Transactions : 6354407 | Number of Fraud Transactions : 8213**"
   ]
  },
  {
   "cell_type": "markdown",
   "id": "b811176a",
   "metadata": {},
   "source": [
    "**Step 3: Amount Transfer Per Class**"
   ]
  },
  {
   "cell_type": "code",
   "execution_count": 8,
   "id": "487b59c3",
   "metadata": {},
   "outputs": [],
   "source": [
    "## Get the Fraud and the normal dataset \n",
    "\n",
    "fraud = fraud_data[fraud_data['isFraud']==1]\n",
    "\n",
    "normal = fraud_data[fraud_data['isFraud']==0]"
   ]
  },
  {
   "cell_type": "code",
   "execution_count": 9,
   "id": "19c2156f",
   "metadata": {},
   "outputs": [
    {
     "name": "stdout",
     "output_type": "stream",
     "text": [
      "(8213, 11) (6354407, 11)\n"
     ]
    }
   ],
   "source": [
    "print(fraud.shape,normal.shape)"
   ]
  },
  {
   "cell_type": "code",
   "execution_count": 10,
   "id": "3230aefe",
   "metadata": {},
   "outputs": [
    {
     "data": {
      "text/plain": [
       "count    8.213000e+03\n",
       "mean     1.467967e+06\n",
       "std      2.404253e+06\n",
       "min      0.000000e+00\n",
       "25%      1.270913e+05\n",
       "50%      4.414234e+05\n",
       "75%      1.517771e+06\n",
       "max      1.000000e+07\n",
       "Name: amount, dtype: float64"
      ]
     },
     "execution_count": 10,
     "metadata": {},
     "output_type": "execute_result"
    }
   ],
   "source": [
    "fraud.amount.describe()"
   ]
  },
  {
   "cell_type": "code",
   "execution_count": 11,
   "id": "7c4133b4",
   "metadata": {},
   "outputs": [
    {
     "data": {
      "text/plain": [
       "count    6.354407e+06\n",
       "mean     1.781970e+05\n",
       "std      5.962370e+05\n",
       "min      1.000000e-02\n",
       "25%      1.336840e+04\n",
       "50%      7.468472e+04\n",
       "75%      2.083648e+05\n",
       "max      9.244552e+07\n",
       "Name: amount, dtype: float64"
      ]
     },
     "execution_count": 11,
     "metadata": {},
     "output_type": "execute_result"
    }
   ],
   "source": [
    "normal.amount.describe()"
   ]
  },
  {
   "cell_type": "code",
   "execution_count": 12,
   "id": "23a2ce8e",
   "metadata": {},
   "outputs": [
    {
     "data": {
      "image/png": "[encoded data removed]",
      "text/plain": [
       "<Figure size 432x288 with 2 Axes>"
      ]
     },
     "metadata": {
      "needs_background": "light"
     },
     "output_type": "display_data"
    }
   ],
   "source": [
    "f, (ax1, ax2) = plt.subplots(2, 1, sharex=True)\n",
    "f.suptitle('Amount per transaction by class')\n",
    "bins = 50\n",
    "ax1.hist(fraud.amount, bins = bins,color = \"red\")\n",
    "ax1.set_title('Fraud')\n",
    "ax2.hist(normal.amount, bins = bins , color = \"blue\")\n",
    "ax2.set_title('Normal')\n",
    "plt.xlabel('Amount (rs)')\n",
    "plt.ylabel('Number of Transactions')\n",
    "plt.yscale('log')\n",
    "plt.show();"
   ]
  },
  {
   "cell_type": "markdown",
   "id": "977485ab",
   "metadata": {},
   "source": [
    "**Step 4: Distribution Among Classes for Flagged Fraud**"
   ]
  },
  {
   "cell_type": "code",
   "execution_count": 13,
   "id": "ec6bf0ce",
   "metadata": {},
   "outputs": [
    {
     "name": "stdout",
     "output_type": "stream",
     "text": [
      "Number of Flagged normal Transactions : 6362604 | Number of Flagged Fraud Transactions : 16\n"
     ]
    },
    {
     "data": {
      "text/plain": [
       "Text(0, 0.5, 'Frequency')"
      ]
     },
     "execution_count": 13,
     "metadata": {},
     "output_type": "execute_result"
    },
    {
     "data": {
      "image/png": "[encoded data removed]",
      "text/plain": [
       "<Figure size 432x288 with 1 Axes>"
      ]
     },
     "metadata": {
      "needs_background": "light"
     },
     "output_type": "display_data"
    }
   ],
   "source": [
    "count_classes = pd.value_counts(fraud_data['isFlaggedFraud'], sort = True)\n",
    "print(f\"Number of Flagged normal Transactions : {count_classes[0]} | Number of Flagged Fraud Transactions : {count_classes[1]}\")\n",
    "color = ['green', 'red'] \n",
    "count_classes.plot(kind = 'bar', rot=0,color = color)\n",
    "plt.title(\"Transaction Class Distribution\")\n",
    "plt.xlabel(\"Class\")\n",
    "plt.ylabel(\"Frequency\")"
   ]
  },
  {
   "cell_type": "markdown",
   "id": "622d2ee6",
   "metadata": {},
   "source": [
    "* **Number of Flagged normal Transactions : 6362604 | Number of Flagged Fraud Transactions : 16** "
   ]
  },
  {
   "cell_type": "markdown",
   "id": "070d9cb9",
   "metadata": {},
   "source": [
    "**Step 5: Amount Transfer Per Class for Flagged Fraud**"
   ]
  },
  {
   "cell_type": "code",
   "execution_count": 14,
   "id": "defbaf7a",
   "metadata": {},
   "outputs": [],
   "source": [
    "## Get the Flagged Fraud and the Flagged normal dataset \n",
    "flagged_fraud = fraud_data[fraud_data['isFlaggedFraud']==1]\n",
    "\n",
    "flagged_normal = fraud_data[fraud_data['isFlaggedFraud']==0]"
   ]
  },
  {
   "cell_type": "code",
   "execution_count": 15,
   "id": "0898b4e5",
   "metadata": {},
   "outputs": [
    {
     "name": "stdout",
     "output_type": "stream",
     "text": [
      "(16, 11) (6362604, 11)\n"
     ]
    }
   ],
   "source": [
    "print(flagged_fraud.shape,flagged_normal.shape)"
   ]
  },
  {
   "cell_type": "code",
   "execution_count": 16,
   "id": "ceeabcdb",
   "metadata": {},
   "outputs": [
    {
     "data": {
      "image/png": "[encoded data removed]",
      "text/plain": [
       "<Figure size 432x288 with 2 Axes>"
      ]
     },
     "metadata": {
      "needs_background": "light"
     },
     "output_type": "display_data"
    }
   ],
   "source": [
    "f, (ax1, ax2) = plt.subplots(2, 1, sharex=True)\n",
    "f.suptitle('Amount per transaction by class')\n",
    "bins = 25\n",
    "ax1.hist(flagged_fraud.amount, bins = bins,color = \"red\")\n",
    "ax1.set_title('Fraud')\n",
    "ax2.hist(flagged_normal.amount, bins = bins , color = \"green\")\n",
    "ax2.set_title('Normal')\n",
    "plt.xlabel('Amount (rs)')\n",
    "plt.ylabel('Number of Transactions')\n",
    "plt.yscale('log')\n",
    "plt.show();"
   ]
  },
  {
   "cell_type": "code",
   "execution_count": 17,
   "id": "6b42c6e0",
   "metadata": {},
   "outputs": [
    {
     "data": {
      "text/html": [
       "<div>\n",
       "<style scoped>\n",
       "    .dataframe tbody tr th:only-of-type {\n",
       "        vertical-align: middle;\n",
       "    }\n",
       "\n",
       "    .dataframe tbody tr th {\n",
       "        vertical-align: top;\n",
       "    }\n",
       "\n",
       "    .dataframe thead th {\n",
       "        text-align: right;\n",
       "    }\n",
       "</style>\n",
       "<table border=\"1\" class=\"dataframe\">\n",
       "  <thead>\n",
       "    <tr style=\"text-align: right;\">\n",
       "      <th></th>\n",
       "      <th>step</th>\n",
       "      <th>type</th>\n",
       "      <th>amount</th>\n",
       "      <th>nameOrig</th>\n",
       "      <th>oldbalanceOrg</th>\n",
       "      <th>newbalanceOrig</th>\n",
       "      <th>nameDest</th>\n",
       "      <th>oldbalanceDest</th>\n",
       "      <th>newbalanceDest</th>\n",
       "      <th>isFraud</th>\n",
       "      <th>isFlaggedFraud</th>\n",
       "    </tr>\n",
       "  </thead>\n",
       "  <tbody>\n",
       "    <tr>\n",
       "      <th>2</th>\n",
       "      <td>1</td>\n",
       "      <td>TRANSFER</td>\n",
       "      <td>181.00</td>\n",
       "      <td>C1305486145</td>\n",
       "      <td>181.00</td>\n",
       "      <td>0.0</td>\n",
       "      <td>C553264065</td>\n",
       "      <td>0.0</td>\n",
       "      <td>0.00</td>\n",
       "      <td>1</td>\n",
       "      <td>0</td>\n",
       "    </tr>\n",
       "    <tr>\n",
       "      <th>3</th>\n",
       "      <td>1</td>\n",
       "      <td>CASH_OUT</td>\n",
       "      <td>181.00</td>\n",
       "      <td>C840083671</td>\n",
       "      <td>181.00</td>\n",
       "      <td>0.0</td>\n",
       "      <td>C38997010</td>\n",
       "      <td>21182.0</td>\n",
       "      <td>0.00</td>\n",
       "      <td>1</td>\n",
       "      <td>0</td>\n",
       "    </tr>\n",
       "    <tr>\n",
       "      <th>251</th>\n",
       "      <td>1</td>\n",
       "      <td>TRANSFER</td>\n",
       "      <td>2806.00</td>\n",
       "      <td>C1420196421</td>\n",
       "      <td>2806.00</td>\n",
       "      <td>0.0</td>\n",
       "      <td>C972765878</td>\n",
       "      <td>0.0</td>\n",
       "      <td>0.00</td>\n",
       "      <td>1</td>\n",
       "      <td>0</td>\n",
       "    </tr>\n",
       "    <tr>\n",
       "      <th>252</th>\n",
       "      <td>1</td>\n",
       "      <td>CASH_OUT</td>\n",
       "      <td>2806.00</td>\n",
       "      <td>C2101527076</td>\n",
       "      <td>2806.00</td>\n",
       "      <td>0.0</td>\n",
       "      <td>C1007251739</td>\n",
       "      <td>26202.0</td>\n",
       "      <td>0.00</td>\n",
       "      <td>1</td>\n",
       "      <td>0</td>\n",
       "    </tr>\n",
       "    <tr>\n",
       "      <th>680</th>\n",
       "      <td>1</td>\n",
       "      <td>TRANSFER</td>\n",
       "      <td>20128.00</td>\n",
       "      <td>C137533655</td>\n",
       "      <td>20128.00</td>\n",
       "      <td>0.0</td>\n",
       "      <td>C1848415041</td>\n",
       "      <td>0.0</td>\n",
       "      <td>0.00</td>\n",
       "      <td>1</td>\n",
       "      <td>0</td>\n",
       "    </tr>\n",
       "    <tr>\n",
       "      <th>681</th>\n",
       "      <td>1</td>\n",
       "      <td>CASH_OUT</td>\n",
       "      <td>20128.00</td>\n",
       "      <td>C1118430673</td>\n",
       "      <td>20128.00</td>\n",
       "      <td>0.0</td>\n",
       "      <td>C339924917</td>\n",
       "      <td>6268.0</td>\n",
       "      <td>12145.85</td>\n",
       "      <td>1</td>\n",
       "      <td>0</td>\n",
       "    </tr>\n",
       "    <tr>\n",
       "      <th>724</th>\n",
       "      <td>1</td>\n",
       "      <td>CASH_OUT</td>\n",
       "      <td>416001.33</td>\n",
       "      <td>C749981943</td>\n",
       "      <td>0.00</td>\n",
       "      <td>0.0</td>\n",
       "      <td>C667346055</td>\n",
       "      <td>102.0</td>\n",
       "      <td>9291619.62</td>\n",
       "      <td>1</td>\n",
       "      <td>0</td>\n",
       "    </tr>\n",
       "    <tr>\n",
       "      <th>969</th>\n",
       "      <td>1</td>\n",
       "      <td>TRANSFER</td>\n",
       "      <td>1277212.77</td>\n",
       "      <td>C1334405552</td>\n",
       "      <td>1277212.77</td>\n",
       "      <td>0.0</td>\n",
       "      <td>C431687661</td>\n",
       "      <td>0.0</td>\n",
       "      <td>0.00</td>\n",
       "      <td>1</td>\n",
       "      <td>0</td>\n",
       "    </tr>\n",
       "    <tr>\n",
       "      <th>970</th>\n",
       "      <td>1</td>\n",
       "      <td>CASH_OUT</td>\n",
       "      <td>1277212.77</td>\n",
       "      <td>C467632528</td>\n",
       "      <td>1277212.77</td>\n",
       "      <td>0.0</td>\n",
       "      <td>C716083600</td>\n",
       "      <td>0.0</td>\n",
       "      <td>2444985.19</td>\n",
       "      <td>1</td>\n",
       "      <td>0</td>\n",
       "    </tr>\n",
       "    <tr>\n",
       "      <th>1115</th>\n",
       "      <td>1</td>\n",
       "      <td>TRANSFER</td>\n",
       "      <td>35063.63</td>\n",
       "      <td>C1364127192</td>\n",
       "      <td>35063.63</td>\n",
       "      <td>0.0</td>\n",
       "      <td>C1136419747</td>\n",
       "      <td>0.0</td>\n",
       "      <td>0.00</td>\n",
       "      <td>1</td>\n",
       "      <td>0</td>\n",
       "    </tr>\n",
       "  </tbody>\n",
       "</table>\n",
       "</div>"
      ],
      "text/plain": [
       "      step      type      amount     nameOrig  oldbalanceOrg  newbalanceOrig  \\\n",
       "2        1  TRANSFER      181.00  C1305486145         181.00             0.0   \n",
       "3        1  CASH_OUT      181.00   C840083671         181.00             0.0   \n",
       "251      1  TRANSFER     2806.00  C1420196421        2806.00             0.0   \n",
       "252      1  CASH_OUT     2806.00  C2101527076        2806.00             0.0   \n",
       "680      1  TRANSFER    20128.00   C137533655       20128.00             0.0   \n",
       "681      1  CASH_OUT    20128.00  C1118430673       20128.00             0.0   \n",
       "724      1  CASH_OUT   416001.33   C749981943           0.00             0.0   \n",
       "969      1  TRANSFER  1277212.77  C1334405552     1277212.77             0.0   \n",
       "970      1  CASH_OUT  1277212.77   C467632528     1277212.77             0.0   \n",
       "1115     1  TRANSFER    35063.63  C1364127192       35063.63             0.0   \n",
       "\n",
       "         nameDest  oldbalanceDest  newbalanceDest  isFraud  isFlaggedFraud  \n",
       "2      C553264065             0.0            0.00        1               0  \n",
       "3       C38997010         21182.0            0.00        1               0  \n",
       "251    C972765878             0.0            0.00        1               0  \n",
       "252   C1007251739         26202.0            0.00        1               0  \n",
       "680   C1848415041             0.0            0.00        1               0  \n",
       "681    C339924917          6268.0        12145.85        1               0  \n",
       "724    C667346055           102.0      9291619.62        1               0  \n",
       "969    C431687661             0.0            0.00        1               0  \n",
       "970    C716083600             0.0      2444985.19        1               0  \n",
       "1115  C1136419747             0.0            0.00        1               0  "
      ]
     },
     "execution_count": 17,
     "metadata": {},
     "output_type": "execute_result"
    }
   ],
   "source": [
    "fraud_data[fraud_data[\"isFraud\"] == 1].head(n = 10)"
   ]
  },
  {
   "cell_type": "markdown",
   "id": "347c376f",
   "metadata": {},
   "source": [
    "**Step 6: Concise Data - Remove Unwanted Columns**"
   ]
  },
  {
   "cell_type": "code",
   "execution_count": 18,
   "id": "cf6a2fe8",
   "metadata": {},
   "outputs": [
    {
     "data": {
      "text/html": [
       "<div>\n",
       "<style scoped>\n",
       "    .dataframe tbody tr th:only-of-type {\n",
       "        vertical-align: middle;\n",
       "    }\n",
       "\n",
       "    .dataframe tbody tr th {\n",
       "        vertical-align: top;\n",
       "    }\n",
       "\n",
       "    .dataframe thead th {\n",
       "        text-align: right;\n",
       "    }\n",
       "</style>\n",
       "<table border=\"1\" class=\"dataframe\">\n",
       "  <thead>\n",
       "    <tr style=\"text-align: right;\">\n",
       "      <th></th>\n",
       "      <th>step</th>\n",
       "      <th>type</th>\n",
       "      <th>amount</th>\n",
       "      <th>oldbalanceOrg</th>\n",
       "      <th>newbalanceOrig</th>\n",
       "      <th>oldbalanceDest</th>\n",
       "      <th>newbalanceDest</th>\n",
       "      <th>isFraud</th>\n",
       "      <th>isFlaggedFraud</th>\n",
       "    </tr>\n",
       "  </thead>\n",
       "  <tbody>\n",
       "    <tr>\n",
       "      <th>0</th>\n",
       "      <td>1</td>\n",
       "      <td>PAYMENT</td>\n",
       "      <td>9839.64</td>\n",
       "      <td>170136.00</td>\n",
       "      <td>160296.36</td>\n",
       "      <td>0.0</td>\n",
       "      <td>0.00</td>\n",
       "      <td>0</td>\n",
       "      <td>0</td>\n",
       "    </tr>\n",
       "    <tr>\n",
       "      <th>1</th>\n",
       "      <td>1</td>\n",
       "      <td>PAYMENT</td>\n",
       "      <td>1864.28</td>\n",
       "      <td>21249.00</td>\n",
       "      <td>19384.72</td>\n",
       "      <td>0.0</td>\n",
       "      <td>0.00</td>\n",
       "      <td>0</td>\n",
       "      <td>0</td>\n",
       "    </tr>\n",
       "    <tr>\n",
       "      <th>2</th>\n",
       "      <td>1</td>\n",
       "      <td>TRANSFER</td>\n",
       "      <td>181.00</td>\n",
       "      <td>181.00</td>\n",
       "      <td>0.00</td>\n",
       "      <td>0.0</td>\n",
       "      <td>0.00</td>\n",
       "      <td>1</td>\n",
       "      <td>0</td>\n",
       "    </tr>\n",
       "    <tr>\n",
       "      <th>3</th>\n",
       "      <td>1</td>\n",
       "      <td>CASH_OUT</td>\n",
       "      <td>181.00</td>\n",
       "      <td>181.00</td>\n",
       "      <td>0.00</td>\n",
       "      <td>21182.0</td>\n",
       "      <td>0.00</td>\n",
       "      <td>1</td>\n",
       "      <td>0</td>\n",
       "    </tr>\n",
       "    <tr>\n",
       "      <th>4</th>\n",
       "      <td>1</td>\n",
       "      <td>PAYMENT</td>\n",
       "      <td>11668.14</td>\n",
       "      <td>41554.00</td>\n",
       "      <td>29885.86</td>\n",
       "      <td>0.0</td>\n",
       "      <td>0.00</td>\n",
       "      <td>0</td>\n",
       "      <td>0</td>\n",
       "    </tr>\n",
       "    <tr>\n",
       "      <th>5</th>\n",
       "      <td>1</td>\n",
       "      <td>PAYMENT</td>\n",
       "      <td>7817.71</td>\n",
       "      <td>53860.00</td>\n",
       "      <td>46042.29</td>\n",
       "      <td>0.0</td>\n",
       "      <td>0.00</td>\n",
       "      <td>0</td>\n",
       "      <td>0</td>\n",
       "    </tr>\n",
       "    <tr>\n",
       "      <th>6</th>\n",
       "      <td>1</td>\n",
       "      <td>PAYMENT</td>\n",
       "      <td>7107.77</td>\n",
       "      <td>183195.00</td>\n",
       "      <td>176087.23</td>\n",
       "      <td>0.0</td>\n",
       "      <td>0.00</td>\n",
       "      <td>0</td>\n",
       "      <td>0</td>\n",
       "    </tr>\n",
       "    <tr>\n",
       "      <th>7</th>\n",
       "      <td>1</td>\n",
       "      <td>PAYMENT</td>\n",
       "      <td>7861.64</td>\n",
       "      <td>176087.23</td>\n",
       "      <td>168225.59</td>\n",
       "      <td>0.0</td>\n",
       "      <td>0.00</td>\n",
       "      <td>0</td>\n",
       "      <td>0</td>\n",
       "    </tr>\n",
       "    <tr>\n",
       "      <th>8</th>\n",
       "      <td>1</td>\n",
       "      <td>PAYMENT</td>\n",
       "      <td>4024.36</td>\n",
       "      <td>2671.00</td>\n",
       "      <td>0.00</td>\n",
       "      <td>0.0</td>\n",
       "      <td>0.00</td>\n",
       "      <td>0</td>\n",
       "      <td>0</td>\n",
       "    </tr>\n",
       "    <tr>\n",
       "      <th>9</th>\n",
       "      <td>1</td>\n",
       "      <td>DEBIT</td>\n",
       "      <td>5337.77</td>\n",
       "      <td>41720.00</td>\n",
       "      <td>36382.23</td>\n",
       "      <td>41898.0</td>\n",
       "      <td>40348.79</td>\n",
       "      <td>0</td>\n",
       "      <td>0</td>\n",
       "    </tr>\n",
       "  </tbody>\n",
       "</table>\n",
       "</div>"
      ],
      "text/plain": [
       "   step      type    amount  oldbalanceOrg  newbalanceOrig  oldbalanceDest  \\\n",
       "0     1   PAYMENT   9839.64      170136.00       160296.36             0.0   \n",
       "1     1   PAYMENT   1864.28       21249.00        19384.72             0.0   \n",
       "2     1  TRANSFER    181.00         181.00            0.00             0.0   \n",
       "3     1  CASH_OUT    181.00         181.00            0.00         21182.0   \n",
       "4     1   PAYMENT  11668.14       41554.00        29885.86             0.0   \n",
       "5     1   PAYMENT   7817.71       53860.00        46042.29             0.0   \n",
       "6     1   PAYMENT   7107.77      183195.00       176087.23             0.0   \n",
       "7     1   PAYMENT   7861.64      176087.23       168225.59             0.0   \n",
       "8     1   PAYMENT   4024.36        2671.00            0.00             0.0   \n",
       "9     1     DEBIT   5337.77       41720.00        36382.23         41898.0   \n",
       "\n",
       "   newbalanceDest  isFraud  isFlaggedFraud  \n",
       "0            0.00        0               0  \n",
       "1            0.00        0               0  \n",
       "2            0.00        1               0  \n",
       "3            0.00        1               0  \n",
       "4            0.00        0               0  \n",
       "5            0.00        0               0  \n",
       "6            0.00        0               0  \n",
       "7            0.00        0               0  \n",
       "8            0.00        0               0  \n",
       "9        40348.79        0               0  "
      ]
     },
     "execution_count": 18,
     "metadata": {},
     "output_type": "execute_result"
    }
   ],
   "source": [
    "drop_col = [\"nameOrig\",\"nameDest\"]\n",
    "fraud_data_new = fraud_data.drop(drop_col,axis = 1)\n",
    "fraud_data_new.head(n=10)"
   ]
  },
  {
   "cell_type": "markdown",
   "id": "47a08491",
   "metadata": {},
   "source": [
    "**Step 7: Cash Flows from Various Transactions**"
   ]
  },
  {
   "cell_type": "code",
   "execution_count": 19,
   "id": "e0b498e8",
   "metadata": {},
   "outputs": [
    {
     "data": {
      "text/plain": [
       "<AxesSubplot:xlabel='type', ylabel='amount'>"
      ]
     },
     "execution_count": 19,
     "metadata": {},
     "output_type": "execute_result"
    },
    {
     "data": {
      "image/png": "[encoded data removed]",
      "text/plain": [
       "<Figure size 432x288 with 1 Axes>"
      ]
     },
     "metadata": {
      "needs_background": "light"
     },
     "output_type": "display_data"
    }
   ],
   "source": [
    "sns.boxplot(x = \"type\", y= \"amount\",data = fraud_data_new)\n"
   ]
  },
  {
   "cell_type": "code",
   "execution_count": 20,
   "id": "4aca89a1",
   "metadata": {},
   "outputs": [
    {
     "data": {
      "text/plain": [
       "<AxesSubplot:xlabel='type', ylabel='amount'>"
      ]
     },
     "execution_count": 20,
     "metadata": {},
     "output_type": "execute_result"
    },
    {
     "data": {
      "image/png": "[encoded data removed]",
      "text/plain": [
       "<Figure size 432x288 with 1 Axes>"
      ]
     },
     "metadata": {
      "needs_background": "light"
     },
     "output_type": "display_data"
    }
   ],
   "source": [
    "sns.violinplot(x = \"type\", y= \"amount\",data = fraud_data_new , heu = \"isFraud\")"
   ]
  },
  {
   "cell_type": "code",
   "execution_count": 21,
   "id": "db3bf157",
   "metadata": {},
   "outputs": [
    {
     "data": {
      "text/plain": [
       "<AxesSubplot:xlabel='type', ylabel='amount'>"
      ]
     },
     "execution_count": 21,
     "metadata": {},
     "output_type": "execute_result"
    },
    {
     "data": {
      "image/png": "[encoded data removed]",
      "text/plain": [
       "<Figure size 432x288 with 1 Axes>"
      ]
     },
     "metadata": {
      "needs_background": "light"
     },
     "output_type": "display_data"
    }
   ],
   "source": [
    "sns.barplot(x = \"type\", y= \"amount\",data = fraud_data_new)"
   ]
  },
  {
   "cell_type": "code",
   "execution_count": 22,
   "id": "b028f09b",
   "metadata": {},
   "outputs": [],
   "source": [
    "types = list(fraud_data_new[\"type\"].unique())\n",
    "cash_flow = {}\n",
    "\n",
    "for typ in types :\n",
    "    df = fraud_data_new[fraud_data_new[\"type\"] == typ]\n",
    "    cash_flow[typ] = df[\"amount\"].sum()\n",
    "    \n",
    "transaction_type = list(cash_flow.keys())\n",
    "amount = list(cash_flow.values())"
   ]
  },
  {
   "cell_type": "code",
   "execution_count": 23,
   "id": "f2ee4112",
   "metadata": {},
   "outputs": [
    {
     "data": {
      "image/png": "[encoded data removed]",
      "text/plain": [
       "<Figure size 720x432 with 1 Axes>"
      ]
     },
     "metadata": {
      "needs_background": "light"
     },
     "output_type": "display_data"
    }
   ],
   "source": [
    "fig = plt.figure(figsize = (10,6))\n",
    "plt.bar(transaction_type, amount, color =[\"red\",\"purple\",\"green\",\"yellow\",\"orange\"], \n",
    "        width = 0.5)\n",
    " \n",
    "plt.xlabel(\"Transaction Type\")\n",
    "plt.ylabel(\"Amount\")\n",
    "plt.title(\"CASH FLOW CHART\")\n",
    "plt.show()"
   ]
  },
  {
   "cell_type": "markdown",
   "id": "19bbc318",
   "metadata": {},
   "source": [
    "* **It is clearly visible that larger sum of amount flow thre Transfer and Cash-outs Followed by Cash-ins ,Payments and least goes threw debit**"
   ]
  },
  {
   "cell_type": "markdown",
   "id": "a1ac739d",
   "metadata": {},
   "source": [
    "**Step 8: Major Types Involved in Fraud**"
   ]
  },
  {
   "cell_type": "code",
   "execution_count": 24,
   "id": "5864b7f5",
   "metadata": {},
   "outputs": [],
   "source": [
    "frauds = fraud_data_new[fraud_data[\"isFraud\"] == 1]"
   ]
  },
  {
   "cell_type": "code",
   "execution_count": 25,
   "id": "e564f66e",
   "metadata": {},
   "outputs": [
    {
     "data": {
      "text/plain": [
       "(8213, 9)"
      ]
     },
     "execution_count": 25,
     "metadata": {},
     "output_type": "execute_result"
    }
   ],
   "source": [
    "frauds.shape"
   ]
  },
  {
   "cell_type": "code",
   "execution_count": 26,
   "id": "53054927",
   "metadata": {},
   "outputs": [
    {
     "data": {
      "image/png": "[encoded data removed]",
      "text/plain": [
       "<Figure size 720x720 with 1 Axes>"
      ]
     },
     "metadata": {},
     "output_type": "display_data"
    }
   ],
   "source": [
    "fig = plt.figure(figsize = (10,10))\n",
    "ax = fig.subplots()\n",
    "frauds[\"type\"].value_counts().plot(ax=ax, kind='pie')\n",
    "#ax.set_ylabel(\"\")\n",
    "ax.set_title(\"type of transaction are most used in fraud\")\n",
    "plt.show()"
   ]
  },
  {
   "cell_type": "code",
   "execution_count": 27,
   "id": "d41706a1",
   "metadata": {},
   "outputs": [
    {
     "data": {
      "text/plain": [
       "type\n",
       "CASH_OUT    4116\n",
       "TRANSFER    4097\n",
       "Name: count, dtype: int64"
      ]
     },
     "execution_count": 27,
     "metadata": {},
     "output_type": "execute_result"
    }
   ],
   "source": [
    "frauds[\"type\"].value_counts()"
   ]
  },
  {
   "cell_type": "code",
   "execution_count": 28,
   "id": "a2fe07fb",
   "metadata": {},
   "outputs": [],
   "source": [
    "a = list(frauds[\"type\"].unique())"
   ]
  },
  {
   "cell_type": "code",
   "execution_count": 29,
   "id": "bb832e74",
   "metadata": {},
   "outputs": [
    {
     "data": {
      "image/png": "[encoded data removed]",
      "text/plain": [
       "<Figure size 360x360 with 1 Axes>"
      ]
     },
     "metadata": {
      "needs_background": "light"
     },
     "output_type": "display_data"
    }
   ],
   "source": [
    "fig = plt.figure(figsize = (5,5))\n",
    "plt.bar(a,list(frauds[\"type\"].value_counts()), color =[\"red\",\"purple\"], \n",
    "        width = 0.5)\n",
    " \n",
    "plt.xlabel(\"Transaction Type\")\n",
    "plt.ylabel(\"Frequency\")\n",
    "plt.title(\"type of transaction are most used in fraud\")\n",
    "plt.tight_layout()\n",
    "plt.show()"
   ]
  },
  {
   "cell_type": "markdown",
   "id": "afcf3257",
   "metadata": {},
   "source": [
    "* **There are only To types of transaction which is being used for fraud transaction. Transfer :4116 ,Cash_out : 4097.**\n",
    "* **Both the types are almost used in similar frequencies.**\n"
   ]
  },
  {
   "cell_type": "markdown",
   "id": "cab720f6",
   "metadata": {},
   "source": [
    "#### Step 9: Likelihood of Fraud - Recipient vs. Initiator\n",
    "\n",
    "##### We will use Two Formulas :\n",
    "* **oldbalanceOrg - amount = newbalanceOrig**\n",
    "* **oldbalanceDest + amount = newbalanceDest**\n",
    "* **Both side are at fault use & Operation**"
   ]
  },
  {
   "cell_type": "markdown",
   "id": "c82d242e",
   "metadata": {},
   "source": [
    "**Initiator is fraud**"
   ]
  },
  {
   "cell_type": "code",
   "execution_count": 30,
   "id": "6a01217f",
   "metadata": {},
   "outputs": [],
   "source": [
    "costumer_who_started_transaction = frauds[((frauds[\"oldbalanceOrg\"] - frauds[\"amount\"]) != frauds[\"newbalanceOrig\"]) | ((frauds[\"oldbalanceOrg\"] - frauds[\"amount\"])<0)]\n"
   ]
  },
  {
   "cell_type": "code",
   "execution_count": 31,
   "id": "81ae0997",
   "metadata": {},
   "outputs": [
    {
     "data": {
      "text/plain": [
       "isFraud\n",
       "1    127\n",
       "Name: count, dtype: int64"
      ]
     },
     "execution_count": 31,
     "metadata": {},
     "output_type": "execute_result"
    }
   ],
   "source": [
    "costumer_who_started_transaction[\"isFraud\"].value_counts()"
   ]
  },
  {
   "cell_type": "code",
   "execution_count": 32,
   "id": "5313d610",
   "metadata": {},
   "outputs": [
    {
     "data": {
      "text/html": [
       "<div>\n",
       "<style scoped>\n",
       "    .dataframe tbody tr th:only-of-type {\n",
       "        vertical-align: middle;\n",
       "    }\n",
       "\n",
       "    .dataframe tbody tr th {\n",
       "        vertical-align: top;\n",
       "    }\n",
       "\n",
       "    .dataframe thead th {\n",
       "        text-align: right;\n",
       "    }\n",
       "</style>\n",
       "<table border=\"1\" class=\"dataframe\">\n",
       "  <thead>\n",
       "    <tr style=\"text-align: right;\">\n",
       "      <th></th>\n",
       "      <th>step</th>\n",
       "      <th>type</th>\n",
       "      <th>amount</th>\n",
       "      <th>oldbalanceOrg</th>\n",
       "      <th>newbalanceOrig</th>\n",
       "      <th>oldbalanceDest</th>\n",
       "      <th>newbalanceDest</th>\n",
       "      <th>isFraud</th>\n",
       "      <th>isFlaggedFraud</th>\n",
       "    </tr>\n",
       "  </thead>\n",
       "  <tbody>\n",
       "    <tr>\n",
       "      <th>724</th>\n",
       "      <td>1</td>\n",
       "      <td>CASH_OUT</td>\n",
       "      <td>416001.33</td>\n",
       "      <td>0.00</td>\n",
       "      <td>0.00</td>\n",
       "      <td>102.0</td>\n",
       "      <td>9291619.62</td>\n",
       "      <td>1</td>\n",
       "      <td>0</td>\n",
       "    </tr>\n",
       "    <tr>\n",
       "      <th>1911</th>\n",
       "      <td>1</td>\n",
       "      <td>CASH_OUT</td>\n",
       "      <td>132842.64</td>\n",
       "      <td>4499.08</td>\n",
       "      <td>0.00</td>\n",
       "      <td>0.0</td>\n",
       "      <td>132842.64</td>\n",
       "      <td>1</td>\n",
       "      <td>0</td>\n",
       "    </tr>\n",
       "    <tr>\n",
       "      <th>4440</th>\n",
       "      <td>4</td>\n",
       "      <td>TRANSFER</td>\n",
       "      <td>10000000.00</td>\n",
       "      <td>12930418.44</td>\n",
       "      <td>2930418.44</td>\n",
       "      <td>0.0</td>\n",
       "      <td>0.00</td>\n",
       "      <td>1</td>\n",
       "      <td>0</td>\n",
       "    </tr>\n",
       "    <tr>\n",
       "      <th>14861</th>\n",
       "      <td>8</td>\n",
       "      <td>CASH_OUT</td>\n",
       "      <td>181728.11</td>\n",
       "      <td>0.00</td>\n",
       "      <td>0.00</td>\n",
       "      <td>11397.0</td>\n",
       "      <td>184477.77</td>\n",
       "      <td>1</td>\n",
       "      <td>0</td>\n",
       "    </tr>\n",
       "    <tr>\n",
       "      <th>25875</th>\n",
       "      <td>8</td>\n",
       "      <td>TRANSFER</td>\n",
       "      <td>1078013.76</td>\n",
       "      <td>0.00</td>\n",
       "      <td>0.00</td>\n",
       "      <td>0.0</td>\n",
       "      <td>970749.68</td>\n",
       "      <td>1</td>\n",
       "      <td>0</td>\n",
       "    </tr>\n",
       "    <tr>\n",
       "      <th>...</th>\n",
       "      <td>...</td>\n",
       "      <td>...</td>\n",
       "      <td>...</td>\n",
       "      <td>...</td>\n",
       "      <td>...</td>\n",
       "      <td>...</td>\n",
       "      <td>...</td>\n",
       "      <td>...</td>\n",
       "      <td>...</td>\n",
       "    </tr>\n",
       "    <tr>\n",
       "      <th>6362462</th>\n",
       "      <td>730</td>\n",
       "      <td>TRANSFER</td>\n",
       "      <td>7316255.05</td>\n",
       "      <td>17316255.05</td>\n",
       "      <td>17316255.05</td>\n",
       "      <td>0.0</td>\n",
       "      <td>0.00</td>\n",
       "      <td>1</td>\n",
       "      <td>1</td>\n",
       "    </tr>\n",
       "    <tr>\n",
       "      <th>6362506</th>\n",
       "      <td>734</td>\n",
       "      <td>TRANSFER</td>\n",
       "      <td>10000000.00</td>\n",
       "      <td>11810044.85</td>\n",
       "      <td>1810044.85</td>\n",
       "      <td>0.0</td>\n",
       "      <td>0.00</td>\n",
       "      <td>1</td>\n",
       "      <td>0</td>\n",
       "    </tr>\n",
       "    <tr>\n",
       "      <th>6362528</th>\n",
       "      <td>736</td>\n",
       "      <td>TRANSFER</td>\n",
       "      <td>10000000.00</td>\n",
       "      <td>11314660.84</td>\n",
       "      <td>1314660.84</td>\n",
       "      <td>0.0</td>\n",
       "      <td>0.00</td>\n",
       "      <td>1</td>\n",
       "      <td>0</td>\n",
       "    </tr>\n",
       "    <tr>\n",
       "      <th>6362582</th>\n",
       "      <td>741</td>\n",
       "      <td>TRANSFER</td>\n",
       "      <td>10000000.00</td>\n",
       "      <td>15674547.89</td>\n",
       "      <td>5674547.89</td>\n",
       "      <td>0.0</td>\n",
       "      <td>0.00</td>\n",
       "      <td>1</td>\n",
       "      <td>0</td>\n",
       "    </tr>\n",
       "    <tr>\n",
       "      <th>6362584</th>\n",
       "      <td>741</td>\n",
       "      <td>TRANSFER</td>\n",
       "      <td>5674547.89</td>\n",
       "      <td>5674547.89</td>\n",
       "      <td>5674547.89</td>\n",
       "      <td>0.0</td>\n",
       "      <td>0.00</td>\n",
       "      <td>1</td>\n",
       "      <td>1</td>\n",
       "    </tr>\n",
       "  </tbody>\n",
       "</table>\n",
       "<p>127 rows × 9 columns</p>\n",
       "</div>"
      ],
      "text/plain": [
       "         step      type       amount  oldbalanceOrg  newbalanceOrig  \\\n",
       "724         1  CASH_OUT    416001.33           0.00            0.00   \n",
       "1911        1  CASH_OUT    132842.64        4499.08            0.00   \n",
       "4440        4  TRANSFER  10000000.00    12930418.44      2930418.44   \n",
       "14861       8  CASH_OUT    181728.11           0.00            0.00   \n",
       "25875       8  TRANSFER   1078013.76           0.00            0.00   \n",
       "...       ...       ...          ...            ...             ...   \n",
       "6362462   730  TRANSFER   7316255.05    17316255.05     17316255.05   \n",
       "6362506   734  TRANSFER  10000000.00    11810044.85      1810044.85   \n",
       "6362528   736  TRANSFER  10000000.00    11314660.84      1314660.84   \n",
       "6362582   741  TRANSFER  10000000.00    15674547.89      5674547.89   \n",
       "6362584   741  TRANSFER   5674547.89     5674547.89      5674547.89   \n",
       "\n",
       "         oldbalanceDest  newbalanceDest  isFraud  isFlaggedFraud  \n",
       "724               102.0      9291619.62        1               0  \n",
       "1911                0.0       132842.64        1               0  \n",
       "4440                0.0            0.00        1               0  \n",
       "14861           11397.0       184477.77        1               0  \n",
       "25875               0.0       970749.68        1               0  \n",
       "...                 ...             ...      ...             ...  \n",
       "6362462             0.0            0.00        1               1  \n",
       "6362506             0.0            0.00        1               0  \n",
       "6362528             0.0            0.00        1               0  \n",
       "6362582             0.0            0.00        1               0  \n",
       "6362584             0.0            0.00        1               1  \n",
       "\n",
       "[127 rows x 9 columns]"
      ]
     },
     "execution_count": 32,
     "metadata": {},
     "output_type": "execute_result"
    }
   ],
   "source": [
    "costumer_who_started_transaction"
   ]
  },
  {
   "cell_type": "code",
   "execution_count": 33,
   "id": "8810f09d",
   "metadata": {},
   "outputs": [
    {
     "data": {
      "text/plain": [
       "(127, 9)"
      ]
     },
     "execution_count": 33,
     "metadata": {},
     "output_type": "execute_result"
    }
   ],
   "source": [
    "costumer_who_started_transaction.shape"
   ]
  },
  {
   "cell_type": "markdown",
   "id": "562ff286",
   "metadata": {},
   "source": [
    "**Recipient is fraud**"
   ]
  },
  {
   "cell_type": "code",
   "execution_count": 34,
   "id": "e1dd61ea",
   "metadata": {},
   "outputs": [],
   "source": [
    "fraud_recipient = frauds[(frauds[\"oldbalanceDest\"] + frauds[\"amount\"]) != frauds[\"newbalanceDest\"]]"
   ]
  },
  {
   "cell_type": "code",
   "execution_count": 35,
   "id": "937e0821",
   "metadata": {},
   "outputs": [
    {
     "data": {
      "text/plain": [
       "(5324, 9)"
      ]
     },
     "execution_count": 35,
     "metadata": {},
     "output_type": "execute_result"
    }
   ],
   "source": [
    "fraud_recipient.shape"
   ]
  },
  {
   "cell_type": "markdown",
   "id": "edc8a5f3",
   "metadata": {},
   "source": [
    "* Either recipient received more mor or less money then expected"
   ]
  },
  {
   "cell_type": "code",
   "execution_count": 36,
   "id": "692f61a7",
   "metadata": {},
   "outputs": [
    {
     "data": {
      "text/html": [
       "<div>\n",
       "<style scoped>\n",
       "    .dataframe tbody tr th:only-of-type {\n",
       "        vertical-align: middle;\n",
       "    }\n",
       "\n",
       "    .dataframe tbody tr th {\n",
       "        vertical-align: top;\n",
       "    }\n",
       "\n",
       "    .dataframe thead th {\n",
       "        text-align: right;\n",
       "    }\n",
       "</style>\n",
       "<table border=\"1\" class=\"dataframe\">\n",
       "  <thead>\n",
       "    <tr style=\"text-align: right;\">\n",
       "      <th></th>\n",
       "      <th>step</th>\n",
       "      <th>type</th>\n",
       "      <th>amount</th>\n",
       "      <th>oldbalanceOrg</th>\n",
       "      <th>newbalanceOrig</th>\n",
       "      <th>oldbalanceDest</th>\n",
       "      <th>newbalanceDest</th>\n",
       "      <th>isFraud</th>\n",
       "      <th>isFlaggedFraud</th>\n",
       "    </tr>\n",
       "  </thead>\n",
       "  <tbody>\n",
       "    <tr>\n",
       "      <th>2</th>\n",
       "      <td>1</td>\n",
       "      <td>TRANSFER</td>\n",
       "      <td>181.00</td>\n",
       "      <td>181.00</td>\n",
       "      <td>0.0</td>\n",
       "      <td>0.00</td>\n",
       "      <td>0.00</td>\n",
       "      <td>1</td>\n",
       "      <td>0</td>\n",
       "    </tr>\n",
       "    <tr>\n",
       "      <th>3</th>\n",
       "      <td>1</td>\n",
       "      <td>CASH_OUT</td>\n",
       "      <td>181.00</td>\n",
       "      <td>181.00</td>\n",
       "      <td>0.0</td>\n",
       "      <td>21182.00</td>\n",
       "      <td>0.00</td>\n",
       "      <td>1</td>\n",
       "      <td>0</td>\n",
       "    </tr>\n",
       "    <tr>\n",
       "      <th>251</th>\n",
       "      <td>1</td>\n",
       "      <td>TRANSFER</td>\n",
       "      <td>2806.00</td>\n",
       "      <td>2806.00</td>\n",
       "      <td>0.0</td>\n",
       "      <td>0.00</td>\n",
       "      <td>0.00</td>\n",
       "      <td>1</td>\n",
       "      <td>0</td>\n",
       "    </tr>\n",
       "    <tr>\n",
       "      <th>252</th>\n",
       "      <td>1</td>\n",
       "      <td>CASH_OUT</td>\n",
       "      <td>2806.00</td>\n",
       "      <td>2806.00</td>\n",
       "      <td>0.0</td>\n",
       "      <td>26202.00</td>\n",
       "      <td>0.00</td>\n",
       "      <td>1</td>\n",
       "      <td>0</td>\n",
       "    </tr>\n",
       "    <tr>\n",
       "      <th>680</th>\n",
       "      <td>1</td>\n",
       "      <td>TRANSFER</td>\n",
       "      <td>20128.00</td>\n",
       "      <td>20128.00</td>\n",
       "      <td>0.0</td>\n",
       "      <td>0.00</td>\n",
       "      <td>0.00</td>\n",
       "      <td>1</td>\n",
       "      <td>0</td>\n",
       "    </tr>\n",
       "    <tr>\n",
       "      <th>...</th>\n",
       "      <td>...</td>\n",
       "      <td>...</td>\n",
       "      <td>...</td>\n",
       "      <td>...</td>\n",
       "      <td>...</td>\n",
       "      <td>...</td>\n",
       "      <td>...</td>\n",
       "      <td>...</td>\n",
       "      <td>...</td>\n",
       "    </tr>\n",
       "    <tr>\n",
       "      <th>6362614</th>\n",
       "      <td>743</td>\n",
       "      <td>TRANSFER</td>\n",
       "      <td>339682.13</td>\n",
       "      <td>339682.13</td>\n",
       "      <td>0.0</td>\n",
       "      <td>0.00</td>\n",
       "      <td>0.00</td>\n",
       "      <td>1</td>\n",
       "      <td>0</td>\n",
       "    </tr>\n",
       "    <tr>\n",
       "      <th>6362616</th>\n",
       "      <td>743</td>\n",
       "      <td>TRANSFER</td>\n",
       "      <td>6311409.28</td>\n",
       "      <td>6311409.28</td>\n",
       "      <td>0.0</td>\n",
       "      <td>0.00</td>\n",
       "      <td>0.00</td>\n",
       "      <td>1</td>\n",
       "      <td>0</td>\n",
       "    </tr>\n",
       "    <tr>\n",
       "      <th>6362617</th>\n",
       "      <td>743</td>\n",
       "      <td>CASH_OUT</td>\n",
       "      <td>6311409.28</td>\n",
       "      <td>6311409.28</td>\n",
       "      <td>0.0</td>\n",
       "      <td>68488.84</td>\n",
       "      <td>6379898.11</td>\n",
       "      <td>1</td>\n",
       "      <td>0</td>\n",
       "    </tr>\n",
       "    <tr>\n",
       "      <th>6362618</th>\n",
       "      <td>743</td>\n",
       "      <td>TRANSFER</td>\n",
       "      <td>850002.52</td>\n",
       "      <td>850002.52</td>\n",
       "      <td>0.0</td>\n",
       "      <td>0.00</td>\n",
       "      <td>0.00</td>\n",
       "      <td>1</td>\n",
       "      <td>0</td>\n",
       "    </tr>\n",
       "    <tr>\n",
       "      <th>6362619</th>\n",
       "      <td>743</td>\n",
       "      <td>CASH_OUT</td>\n",
       "      <td>850002.52</td>\n",
       "      <td>850002.52</td>\n",
       "      <td>0.0</td>\n",
       "      <td>6510099.11</td>\n",
       "      <td>7360101.63</td>\n",
       "      <td>1</td>\n",
       "      <td>0</td>\n",
       "    </tr>\n",
       "  </tbody>\n",
       "</table>\n",
       "<p>5324 rows × 9 columns</p>\n",
       "</div>"
      ],
      "text/plain": [
       "         step      type      amount  oldbalanceOrg  newbalanceOrig  \\\n",
       "2           1  TRANSFER      181.00         181.00             0.0   \n",
       "3           1  CASH_OUT      181.00         181.00             0.0   \n",
       "251         1  TRANSFER     2806.00        2806.00             0.0   \n",
       "252         1  CASH_OUT     2806.00        2806.00             0.0   \n",
       "680         1  TRANSFER    20128.00       20128.00             0.0   \n",
       "...       ...       ...         ...            ...             ...   \n",
       "6362614   743  TRANSFER   339682.13      339682.13             0.0   \n",
       "6362616   743  TRANSFER  6311409.28     6311409.28             0.0   \n",
       "6362617   743  CASH_OUT  6311409.28     6311409.28             0.0   \n",
       "6362618   743  TRANSFER   850002.52      850002.52             0.0   \n",
       "6362619   743  CASH_OUT   850002.52      850002.52             0.0   \n",
       "\n",
       "         oldbalanceDest  newbalanceDest  isFraud  isFlaggedFraud  \n",
       "2                  0.00            0.00        1               0  \n",
       "3              21182.00            0.00        1               0  \n",
       "251                0.00            0.00        1               0  \n",
       "252            26202.00            0.00        1               0  \n",
       "680                0.00            0.00        1               0  \n",
       "...                 ...             ...      ...             ...  \n",
       "6362614            0.00            0.00        1               0  \n",
       "6362616            0.00            0.00        1               0  \n",
       "6362617        68488.84      6379898.11        1               0  \n",
       "6362618            0.00            0.00        1               0  \n",
       "6362619      6510099.11      7360101.63        1               0  \n",
       "\n",
       "[5324 rows x 9 columns]"
      ]
     },
     "execution_count": 36,
     "metadata": {},
     "output_type": "execute_result"
    }
   ],
   "source": [
    "fraud_recipient"
   ]
  },
  {
   "cell_type": "markdown",
   "id": "a69fbb27",
   "metadata": {},
   "source": [
    "**Both initiator and recipient are at fault**"
   ]
  },
  {
   "cell_type": "code",
   "execution_count": 37,
   "id": "c1def747",
   "metadata": {},
   "outputs": [],
   "source": [
    "both_fault = frauds[((frauds[\"oldbalanceOrg\"] - frauds[\"amount\"]) != frauds[\"newbalanceOrig\"]) & ((frauds[\"oldbalanceDest\"] + frauds[\"amount\"]) != frauds[\"newbalanceDest\"])]\n"
   ]
  },
  {
   "cell_type": "code",
   "execution_count": 38,
   "id": "3b4d5613",
   "metadata": {},
   "outputs": [
    {
     "data": {
      "text/html": [
       "<div>\n",
       "<style scoped>\n",
       "    .dataframe tbody tr th:only-of-type {\n",
       "        vertical-align: middle;\n",
       "    }\n",
       "\n",
       "    .dataframe tbody tr th {\n",
       "        vertical-align: top;\n",
       "    }\n",
       "\n",
       "    .dataframe thead th {\n",
       "        text-align: right;\n",
       "    }\n",
       "</style>\n",
       "<table border=\"1\" class=\"dataframe\">\n",
       "  <thead>\n",
       "    <tr style=\"text-align: right;\">\n",
       "      <th></th>\n",
       "      <th>step</th>\n",
       "      <th>type</th>\n",
       "      <th>amount</th>\n",
       "      <th>oldbalanceOrg</th>\n",
       "      <th>newbalanceOrig</th>\n",
       "      <th>oldbalanceDest</th>\n",
       "      <th>newbalanceDest</th>\n",
       "      <th>isFraud</th>\n",
       "      <th>isFlaggedFraud</th>\n",
       "    </tr>\n",
       "  </thead>\n",
       "  <tbody>\n",
       "    <tr>\n",
       "      <th>724</th>\n",
       "      <td>1</td>\n",
       "      <td>CASH_OUT</td>\n",
       "      <td>416001.33</td>\n",
       "      <td>0.00</td>\n",
       "      <td>0.00</td>\n",
       "      <td>102.00</td>\n",
       "      <td>9291619.62</td>\n",
       "      <td>1</td>\n",
       "      <td>0</td>\n",
       "    </tr>\n",
       "    <tr>\n",
       "      <th>4440</th>\n",
       "      <td>4</td>\n",
       "      <td>TRANSFER</td>\n",
       "      <td>10000000.00</td>\n",
       "      <td>12930418.44</td>\n",
       "      <td>2930418.44</td>\n",
       "      <td>0.00</td>\n",
       "      <td>0.00</td>\n",
       "      <td>1</td>\n",
       "      <td>0</td>\n",
       "    </tr>\n",
       "    <tr>\n",
       "      <th>14861</th>\n",
       "      <td>8</td>\n",
       "      <td>CASH_OUT</td>\n",
       "      <td>181728.11</td>\n",
       "      <td>0.00</td>\n",
       "      <td>0.00</td>\n",
       "      <td>11397.00</td>\n",
       "      <td>184477.77</td>\n",
       "      <td>1</td>\n",
       "      <td>0</td>\n",
       "    </tr>\n",
       "    <tr>\n",
       "      <th>25875</th>\n",
       "      <td>8</td>\n",
       "      <td>TRANSFER</td>\n",
       "      <td>1078013.76</td>\n",
       "      <td>0.00</td>\n",
       "      <td>0.00</td>\n",
       "      <td>0.00</td>\n",
       "      <td>970749.68</td>\n",
       "      <td>1</td>\n",
       "      <td>0</td>\n",
       "    </tr>\n",
       "    <tr>\n",
       "      <th>60853</th>\n",
       "      <td>9</td>\n",
       "      <td>TRANSFER</td>\n",
       "      <td>994453.20</td>\n",
       "      <td>1437370.87</td>\n",
       "      <td>442917.67</td>\n",
       "      <td>194812.76</td>\n",
       "      <td>665743.67</td>\n",
       "      <td>1</td>\n",
       "      <td>0</td>\n",
       "    </tr>\n",
       "    <tr>\n",
       "      <th>...</th>\n",
       "      <td>...</td>\n",
       "      <td>...</td>\n",
       "      <td>...</td>\n",
       "      <td>...</td>\n",
       "      <td>...</td>\n",
       "      <td>...</td>\n",
       "      <td>...</td>\n",
       "      <td>...</td>\n",
       "      <td>...</td>\n",
       "    </tr>\n",
       "    <tr>\n",
       "      <th>6362462</th>\n",
       "      <td>730</td>\n",
       "      <td>TRANSFER</td>\n",
       "      <td>7316255.05</td>\n",
       "      <td>17316255.05</td>\n",
       "      <td>17316255.05</td>\n",
       "      <td>0.00</td>\n",
       "      <td>0.00</td>\n",
       "      <td>1</td>\n",
       "      <td>1</td>\n",
       "    </tr>\n",
       "    <tr>\n",
       "      <th>6362506</th>\n",
       "      <td>734</td>\n",
       "      <td>TRANSFER</td>\n",
       "      <td>10000000.00</td>\n",
       "      <td>11810044.85</td>\n",
       "      <td>1810044.85</td>\n",
       "      <td>0.00</td>\n",
       "      <td>0.00</td>\n",
       "      <td>1</td>\n",
       "      <td>0</td>\n",
       "    </tr>\n",
       "    <tr>\n",
       "      <th>6362528</th>\n",
       "      <td>736</td>\n",
       "      <td>TRANSFER</td>\n",
       "      <td>10000000.00</td>\n",
       "      <td>11314660.84</td>\n",
       "      <td>1314660.84</td>\n",
       "      <td>0.00</td>\n",
       "      <td>0.00</td>\n",
       "      <td>1</td>\n",
       "      <td>0</td>\n",
       "    </tr>\n",
       "    <tr>\n",
       "      <th>6362582</th>\n",
       "      <td>741</td>\n",
       "      <td>TRANSFER</td>\n",
       "      <td>10000000.00</td>\n",
       "      <td>15674547.89</td>\n",
       "      <td>5674547.89</td>\n",
       "      <td>0.00</td>\n",
       "      <td>0.00</td>\n",
       "      <td>1</td>\n",
       "      <td>0</td>\n",
       "    </tr>\n",
       "    <tr>\n",
       "      <th>6362584</th>\n",
       "      <td>741</td>\n",
       "      <td>TRANSFER</td>\n",
       "      <td>5674547.89</td>\n",
       "      <td>5674547.89</td>\n",
       "      <td>5674547.89</td>\n",
       "      <td>0.00</td>\n",
       "      <td>0.00</td>\n",
       "      <td>1</td>\n",
       "      <td>1</td>\n",
       "    </tr>\n",
       "  </tbody>\n",
       "</table>\n",
       "<p>112 rows × 9 columns</p>\n",
       "</div>"
      ],
      "text/plain": [
       "         step      type       amount  oldbalanceOrg  newbalanceOrig  \\\n",
       "724         1  CASH_OUT    416001.33           0.00            0.00   \n",
       "4440        4  TRANSFER  10000000.00    12930418.44      2930418.44   \n",
       "14861       8  CASH_OUT    181728.11           0.00            0.00   \n",
       "25875       8  TRANSFER   1078013.76           0.00            0.00   \n",
       "60853       9  TRANSFER    994453.20     1437370.87       442917.67   \n",
       "...       ...       ...          ...            ...             ...   \n",
       "6362462   730  TRANSFER   7316255.05    17316255.05     17316255.05   \n",
       "6362506   734  TRANSFER  10000000.00    11810044.85      1810044.85   \n",
       "6362528   736  TRANSFER  10000000.00    11314660.84      1314660.84   \n",
       "6362582   741  TRANSFER  10000000.00    15674547.89      5674547.89   \n",
       "6362584   741  TRANSFER   5674547.89     5674547.89      5674547.89   \n",
       "\n",
       "         oldbalanceDest  newbalanceDest  isFraud  isFlaggedFraud  \n",
       "724              102.00      9291619.62        1               0  \n",
       "4440               0.00            0.00        1               0  \n",
       "14861          11397.00       184477.77        1               0  \n",
       "25875              0.00       970749.68        1               0  \n",
       "60853         194812.76       665743.67        1               0  \n",
       "...                 ...             ...      ...             ...  \n",
       "6362462            0.00            0.00        1               1  \n",
       "6362506            0.00            0.00        1               0  \n",
       "6362528            0.00            0.00        1               0  \n",
       "6362582            0.00            0.00        1               0  \n",
       "6362584            0.00            0.00        1               1  \n",
       "\n",
       "[112 rows x 9 columns]"
      ]
     },
     "execution_count": 38,
     "metadata": {},
     "output_type": "execute_result"
    }
   ],
   "source": [
    "both_fault"
   ]
  },
  {
   "cell_type": "code",
   "execution_count": 135,
   "id": "08f5759b",
   "metadata": {},
   "outputs": [
    {
     "data": {
      "image/png": "[encoded data removed]",
      "text/plain": [
       "<Figure size 360x360 with 1 Axes>"
      ]
     },
     "metadata": {
      "needs_background": "light"
     },
     "output_type": "display_data"
    }
   ],
   "source": [
    "classes = [\"Payer\",\"fraud_recipient\",\"both_fault\",\"Other Reasons\"]\n",
    "values_1 = [costumer_who_started_transaction.shape[0],fraud_recipient.shape[0],both_fault.shape[0]]\n",
    "# val = some other reasons\n",
    "val = (frauds.shape[0] - sum(values_1))\n",
    "values_1.append(val)\n",
    "\n",
    "fig = plt.figure(figsize = (5,5))\n",
    "plt.bar(classes,values_1, color =[\"blue\",\"orange\",\"violet\",\"purple\"], \n",
    "        width = 0.5)\n",
    " \n",
    "plt.xlabel(\"Who initiate the fraud\")\n",
    "plt.ylabel(\"Frequency\")\n",
    "plt.title(\"Types of Frauds\")\n",
    "plt.tight_layout()\n",
    "plt.show()"
   ]
  },
  {
   "cell_type": "markdown",
   "id": "6522fa09",
   "metadata": {},
   "source": [
    "## Acurracy"
   ]
  },
  {
   "cell_type": "markdown",
   "id": "6fd26e0c",
   "metadata": {},
   "source": [
    "### Calculating the accuracy of in build fraud Detector"
   ]
  },
  {
   "cell_type": "code",
   "execution_count": 40,
   "id": "43a1ceb2",
   "metadata": {},
   "outputs": [
    {
     "data": {
      "text/html": [
       "<div>\n",
       "<style scoped>\n",
       "    .dataframe tbody tr th:only-of-type {\n",
       "        vertical-align: middle;\n",
       "    }\n",
       "\n",
       "    .dataframe tbody tr th {\n",
       "        vertical-align: top;\n",
       "    }\n",
       "\n",
       "    .dataframe thead th {\n",
       "        text-align: right;\n",
       "    }\n",
       "</style>\n",
       "<table border=\"1\" class=\"dataframe\">\n",
       "  <thead>\n",
       "    <tr style=\"text-align: right;\">\n",
       "      <th></th>\n",
       "      <th>step</th>\n",
       "      <th>type</th>\n",
       "      <th>amount</th>\n",
       "      <th>oldbalanceOrg</th>\n",
       "      <th>newbalanceOrig</th>\n",
       "      <th>oldbalanceDest</th>\n",
       "      <th>newbalanceDest</th>\n",
       "      <th>isFraud</th>\n",
       "      <th>isFlaggedFraud</th>\n",
       "    </tr>\n",
       "  </thead>\n",
       "  <tbody>\n",
       "    <tr>\n",
       "      <th>2</th>\n",
       "      <td>1</td>\n",
       "      <td>TRANSFER</td>\n",
       "      <td>181.00</td>\n",
       "      <td>181.00</td>\n",
       "      <td>0.0</td>\n",
       "      <td>0.0</td>\n",
       "      <td>0.00</td>\n",
       "      <td>1</td>\n",
       "      <td>0</td>\n",
       "    </tr>\n",
       "    <tr>\n",
       "      <th>3</th>\n",
       "      <td>1</td>\n",
       "      <td>CASH_OUT</td>\n",
       "      <td>181.00</td>\n",
       "      <td>181.00</td>\n",
       "      <td>0.0</td>\n",
       "      <td>21182.0</td>\n",
       "      <td>0.00</td>\n",
       "      <td>1</td>\n",
       "      <td>0</td>\n",
       "    </tr>\n",
       "    <tr>\n",
       "      <th>251</th>\n",
       "      <td>1</td>\n",
       "      <td>TRANSFER</td>\n",
       "      <td>2806.00</td>\n",
       "      <td>2806.00</td>\n",
       "      <td>0.0</td>\n",
       "      <td>0.0</td>\n",
       "      <td>0.00</td>\n",
       "      <td>1</td>\n",
       "      <td>0</td>\n",
       "    </tr>\n",
       "    <tr>\n",
       "      <th>252</th>\n",
       "      <td>1</td>\n",
       "      <td>CASH_OUT</td>\n",
       "      <td>2806.00</td>\n",
       "      <td>2806.00</td>\n",
       "      <td>0.0</td>\n",
       "      <td>26202.0</td>\n",
       "      <td>0.00</td>\n",
       "      <td>1</td>\n",
       "      <td>0</td>\n",
       "    </tr>\n",
       "    <tr>\n",
       "      <th>680</th>\n",
       "      <td>1</td>\n",
       "      <td>TRANSFER</td>\n",
       "      <td>20128.00</td>\n",
       "      <td>20128.00</td>\n",
       "      <td>0.0</td>\n",
       "      <td>0.0</td>\n",
       "      <td>0.00</td>\n",
       "      <td>1</td>\n",
       "      <td>0</td>\n",
       "    </tr>\n",
       "    <tr>\n",
       "      <th>681</th>\n",
       "      <td>1</td>\n",
       "      <td>CASH_OUT</td>\n",
       "      <td>20128.00</td>\n",
       "      <td>20128.00</td>\n",
       "      <td>0.0</td>\n",
       "      <td>6268.0</td>\n",
       "      <td>12145.85</td>\n",
       "      <td>1</td>\n",
       "      <td>0</td>\n",
       "    </tr>\n",
       "    <tr>\n",
       "      <th>724</th>\n",
       "      <td>1</td>\n",
       "      <td>CASH_OUT</td>\n",
       "      <td>416001.33</td>\n",
       "      <td>0.00</td>\n",
       "      <td>0.0</td>\n",
       "      <td>102.0</td>\n",
       "      <td>9291619.62</td>\n",
       "      <td>1</td>\n",
       "      <td>0</td>\n",
       "    </tr>\n",
       "    <tr>\n",
       "      <th>969</th>\n",
       "      <td>1</td>\n",
       "      <td>TRANSFER</td>\n",
       "      <td>1277212.77</td>\n",
       "      <td>1277212.77</td>\n",
       "      <td>0.0</td>\n",
       "      <td>0.0</td>\n",
       "      <td>0.00</td>\n",
       "      <td>1</td>\n",
       "      <td>0</td>\n",
       "    </tr>\n",
       "    <tr>\n",
       "      <th>970</th>\n",
       "      <td>1</td>\n",
       "      <td>CASH_OUT</td>\n",
       "      <td>1277212.77</td>\n",
       "      <td>1277212.77</td>\n",
       "      <td>0.0</td>\n",
       "      <td>0.0</td>\n",
       "      <td>2444985.19</td>\n",
       "      <td>1</td>\n",
       "      <td>0</td>\n",
       "    </tr>\n",
       "    <tr>\n",
       "      <th>1115</th>\n",
       "      <td>1</td>\n",
       "      <td>TRANSFER</td>\n",
       "      <td>35063.63</td>\n",
       "      <td>35063.63</td>\n",
       "      <td>0.0</td>\n",
       "      <td>0.0</td>\n",
       "      <td>0.00</td>\n",
       "      <td>1</td>\n",
       "      <td>0</td>\n",
       "    </tr>\n",
       "  </tbody>\n",
       "</table>\n",
       "</div>"
      ],
      "text/plain": [
       "      step      type      amount  oldbalanceOrg  newbalanceOrig  \\\n",
       "2        1  TRANSFER      181.00         181.00             0.0   \n",
       "3        1  CASH_OUT      181.00         181.00             0.0   \n",
       "251      1  TRANSFER     2806.00        2806.00             0.0   \n",
       "252      1  CASH_OUT     2806.00        2806.00             0.0   \n",
       "680      1  TRANSFER    20128.00       20128.00             0.0   \n",
       "681      1  CASH_OUT    20128.00       20128.00             0.0   \n",
       "724      1  CASH_OUT   416001.33           0.00             0.0   \n",
       "969      1  TRANSFER  1277212.77     1277212.77             0.0   \n",
       "970      1  CASH_OUT  1277212.77     1277212.77             0.0   \n",
       "1115     1  TRANSFER    35063.63       35063.63             0.0   \n",
       "\n",
       "      oldbalanceDest  newbalanceDest  isFraud  isFlaggedFraud  \n",
       "2                0.0            0.00        1               0  \n",
       "3            21182.0            0.00        1               0  \n",
       "251              0.0            0.00        1               0  \n",
       "252          26202.0            0.00        1               0  \n",
       "680              0.0            0.00        1               0  \n",
       "681           6268.0        12145.85        1               0  \n",
       "724            102.0      9291619.62        1               0  \n",
       "969              0.0            0.00        1               0  \n",
       "970              0.0      2444985.19        1               0  \n",
       "1115             0.0            0.00        1               0  "
      ]
     },
     "execution_count": 40,
     "metadata": {},
     "output_type": "execute_result"
    }
   ],
   "source": [
    "frauds.head(n=10)"
   ]
  },
  {
   "cell_type": "code",
   "execution_count": 41,
   "id": "a612279c",
   "metadata": {},
   "outputs": [],
   "source": [
    "def accuracy_fn(y_true,y_pred,total_len):\n",
    "    \"\"\"It is a accuracy function which takes Y Label , Total length and Y Predtion as input\"\"\"\n",
    "    acc = (sum(y_pred == y_true)/total_len)*100\n",
    "    return acc"
   ]
  },
  {
   "cell_type": "code",
   "execution_count": 42,
   "id": "9237f82c",
   "metadata": {},
   "outputs": [
    {
     "data": {
      "text/plain": [
       "0.1948131011810544"
      ]
     },
     "execution_count": 42,
     "metadata": {},
     "output_type": "execute_result"
    }
   ],
   "source": [
    "total_len = frauds.shape[0]\n",
    "y_true = np.array(frauds[\"isFraud\"])\n",
    "y_pred = np.array(frauds[\"isFlaggedFraud\"])\n",
    "accuracy_fn(y_true,y_pred,total_len)"
   ]
  },
  {
   "cell_type": "markdown",
   "id": "d95858e7",
   "metadata": {},
   "source": [
    "### Acuraccy of Existing System is 0.1948131011810544 %"
   ]
  },
  {
   "cell_type": "markdown",
   "id": "9c94a4e1",
   "metadata": {},
   "source": [
    "## Confusion Matrix"
   ]
  },
  {
   "cell_type": "code",
   "execution_count": 44,
   "id": "8bb1c6e6",
   "metadata": {},
   "outputs": [],
   "source": [
    "from sklearn.metrics import confusion_matrix\n",
    "def confusion_matrix_fun(y_true,y_pred):\n",
    "    #Using sklearn confusion matix function\n",
    "    conf_matrix = confusion_matrix(y_true,y_pred)\n",
    "    plt.figure(figsize=(4, 4))\n",
    "    sns.heatmap(conf_matrix, annot=True, fmt='d', cmap='Blues', cbar=False,\n",
    "                xticklabels=['predicted_0', 'Predicted 1'],\n",
    "                yticklabels=['Actual 0', 'Actual 1'])\n",
    "    plt.xlabel('Predicted Label')\n",
    "    plt.ylabel('True Label')\n",
    "    plt.title('Confusion Matrix')\n",
    "    plt.show()"
   ]
  },
  {
   "cell_type": "code",
   "execution_count": 45,
   "id": "14e84708",
   "metadata": {},
   "outputs": [
    {
     "data": {
      "image/png": "[encoded data removed]",
      "text/plain": [
       "<Figure size 288x288 with 1 Axes>"
      ]
     },
     "metadata": {
      "needs_background": "light"
     },
     "output_type": "display_data"
    }
   ],
   "source": [
    "confusion_matrix_fun(y_true,y_pred)"
   ]
  },
  {
   "cell_type": "markdown",
   "id": "95fc6ce6",
   "metadata": {},
   "source": [
    "### Accuracy confusion matrix over all dataset"
   ]
  },
  {
   "cell_type": "code",
   "execution_count": 46,
   "id": "b2929dbd",
   "metadata": {},
   "outputs": [],
   "source": [
    "y_true_for_full_data = np.array(fraud_data_new[\"isFraud\"])\n",
    "y_pred_for_full_data = np.array(fraud_data_new[\"isFlaggedFraud\"])\n",
    "total_length = fraud_data_new.shape[0]"
   ]
  },
  {
   "cell_type": "code",
   "execution_count": 47,
   "id": "dba864da",
   "metadata": {},
   "outputs": [
    {
     "name": "stdout",
     "output_type": "stream",
     "text": [
      "Acurracy of existing Fraud Detector among entire dataset : 99.87116942391656\n"
     ]
    },
    {
     "data": {
      "image/png": "[encoded data removed]",
      "text/plain": [
       "<Figure size 288x288 with 1 Axes>"
      ]
     },
     "metadata": {
      "needs_background": "light"
     },
     "output_type": "display_data"
    }
   ],
   "source": [
    "accuracy = accuracy_fn(y_true_for_full_data,y_pred_for_full_data,total_length)\n",
    "\n",
    "print(f\"Acurracy of existing Fraud Detector among entire dataset : {accuracy}\")\n",
    "\n",
    "confusion_matrix_fun(y_true_for_full_data,y_pred_for_full_data)"
   ]
  },
  {
   "cell_type": "markdown",
   "id": "7ffc0294",
   "metadata": {},
   "source": [
    "* **It is clearly be Shown That our detector is marking almost every transaction as valid transaction.**"
   ]
  },
  {
   "cell_type": "markdown",
   "id": "3aac896f",
   "metadata": {},
   "source": [
    "# Creating Machine Learning Model Of Getting More Accurate Fraud Predictor"
   ]
  },
  {
   "cell_type": "markdown",
   "id": "e6b9c04d",
   "metadata": {},
   "source": [
    "## Data Preprocessing"
   ]
  },
  {
   "cell_type": "code",
   "execution_count": 48,
   "id": "a92da946",
   "metadata": {
    "scrolled": true
   },
   "outputs": [
    {
     "data": {
      "text/html": [
       "<div>\n",
       "<style scoped>\n",
       "    .dataframe tbody tr th:only-of-type {\n",
       "        vertical-align: middle;\n",
       "    }\n",
       "\n",
       "    .dataframe tbody tr th {\n",
       "        vertical-align: top;\n",
       "    }\n",
       "\n",
       "    .dataframe thead th {\n",
       "        text-align: right;\n",
       "    }\n",
       "</style>\n",
       "<table border=\"1\" class=\"dataframe\">\n",
       "  <thead>\n",
       "    <tr style=\"text-align: right;\">\n",
       "      <th></th>\n",
       "      <th>step</th>\n",
       "      <th>type</th>\n",
       "      <th>amount</th>\n",
       "      <th>oldbalanceOrg</th>\n",
       "      <th>newbalanceOrig</th>\n",
       "      <th>oldbalanceDest</th>\n",
       "      <th>newbalanceDest</th>\n",
       "      <th>isFraud</th>\n",
       "      <th>isFlaggedFraud</th>\n",
       "    </tr>\n",
       "  </thead>\n",
       "  <tbody>\n",
       "    <tr>\n",
       "      <th>0</th>\n",
       "      <td>1</td>\n",
       "      <td>PAYMENT</td>\n",
       "      <td>9839.64</td>\n",
       "      <td>170136.00</td>\n",
       "      <td>160296.36</td>\n",
       "      <td>0.0</td>\n",
       "      <td>0.00</td>\n",
       "      <td>0</td>\n",
       "      <td>0</td>\n",
       "    </tr>\n",
       "    <tr>\n",
       "      <th>1</th>\n",
       "      <td>1</td>\n",
       "      <td>PAYMENT</td>\n",
       "      <td>1864.28</td>\n",
       "      <td>21249.00</td>\n",
       "      <td>19384.72</td>\n",
       "      <td>0.0</td>\n",
       "      <td>0.00</td>\n",
       "      <td>0</td>\n",
       "      <td>0</td>\n",
       "    </tr>\n",
       "    <tr>\n",
       "      <th>2</th>\n",
       "      <td>1</td>\n",
       "      <td>TRANSFER</td>\n",
       "      <td>181.00</td>\n",
       "      <td>181.00</td>\n",
       "      <td>0.00</td>\n",
       "      <td>0.0</td>\n",
       "      <td>0.00</td>\n",
       "      <td>1</td>\n",
       "      <td>0</td>\n",
       "    </tr>\n",
       "    <tr>\n",
       "      <th>3</th>\n",
       "      <td>1</td>\n",
       "      <td>CASH_OUT</td>\n",
       "      <td>181.00</td>\n",
       "      <td>181.00</td>\n",
       "      <td>0.00</td>\n",
       "      <td>21182.0</td>\n",
       "      <td>0.00</td>\n",
       "      <td>1</td>\n",
       "      <td>0</td>\n",
       "    </tr>\n",
       "    <tr>\n",
       "      <th>4</th>\n",
       "      <td>1</td>\n",
       "      <td>PAYMENT</td>\n",
       "      <td>11668.14</td>\n",
       "      <td>41554.00</td>\n",
       "      <td>29885.86</td>\n",
       "      <td>0.0</td>\n",
       "      <td>0.00</td>\n",
       "      <td>0</td>\n",
       "      <td>0</td>\n",
       "    </tr>\n",
       "    <tr>\n",
       "      <th>5</th>\n",
       "      <td>1</td>\n",
       "      <td>PAYMENT</td>\n",
       "      <td>7817.71</td>\n",
       "      <td>53860.00</td>\n",
       "      <td>46042.29</td>\n",
       "      <td>0.0</td>\n",
       "      <td>0.00</td>\n",
       "      <td>0</td>\n",
       "      <td>0</td>\n",
       "    </tr>\n",
       "    <tr>\n",
       "      <th>6</th>\n",
       "      <td>1</td>\n",
       "      <td>PAYMENT</td>\n",
       "      <td>7107.77</td>\n",
       "      <td>183195.00</td>\n",
       "      <td>176087.23</td>\n",
       "      <td>0.0</td>\n",
       "      <td>0.00</td>\n",
       "      <td>0</td>\n",
       "      <td>0</td>\n",
       "    </tr>\n",
       "    <tr>\n",
       "      <th>7</th>\n",
       "      <td>1</td>\n",
       "      <td>PAYMENT</td>\n",
       "      <td>7861.64</td>\n",
       "      <td>176087.23</td>\n",
       "      <td>168225.59</td>\n",
       "      <td>0.0</td>\n",
       "      <td>0.00</td>\n",
       "      <td>0</td>\n",
       "      <td>0</td>\n",
       "    </tr>\n",
       "    <tr>\n",
       "      <th>8</th>\n",
       "      <td>1</td>\n",
       "      <td>PAYMENT</td>\n",
       "      <td>4024.36</td>\n",
       "      <td>2671.00</td>\n",
       "      <td>0.00</td>\n",
       "      <td>0.0</td>\n",
       "      <td>0.00</td>\n",
       "      <td>0</td>\n",
       "      <td>0</td>\n",
       "    </tr>\n",
       "    <tr>\n",
       "      <th>9</th>\n",
       "      <td>1</td>\n",
       "      <td>DEBIT</td>\n",
       "      <td>5337.77</td>\n",
       "      <td>41720.00</td>\n",
       "      <td>36382.23</td>\n",
       "      <td>41898.0</td>\n",
       "      <td>40348.79</td>\n",
       "      <td>0</td>\n",
       "      <td>0</td>\n",
       "    </tr>\n",
       "  </tbody>\n",
       "</table>\n",
       "</div>"
      ],
      "text/plain": [
       "   step      type    amount  oldbalanceOrg  newbalanceOrig  oldbalanceDest  \\\n",
       "0     1   PAYMENT   9839.64      170136.00       160296.36             0.0   \n",
       "1     1   PAYMENT   1864.28       21249.00        19384.72             0.0   \n",
       "2     1  TRANSFER    181.00         181.00            0.00             0.0   \n",
       "3     1  CASH_OUT    181.00         181.00            0.00         21182.0   \n",
       "4     1   PAYMENT  11668.14       41554.00        29885.86             0.0   \n",
       "5     1   PAYMENT   7817.71       53860.00        46042.29             0.0   \n",
       "6     1   PAYMENT   7107.77      183195.00       176087.23             0.0   \n",
       "7     1   PAYMENT   7861.64      176087.23       168225.59             0.0   \n",
       "8     1   PAYMENT   4024.36        2671.00            0.00             0.0   \n",
       "9     1     DEBIT   5337.77       41720.00        36382.23         41898.0   \n",
       "\n",
       "   newbalanceDest  isFraud  isFlaggedFraud  \n",
       "0            0.00        0               0  \n",
       "1            0.00        0               0  \n",
       "2            0.00        1               0  \n",
       "3            0.00        1               0  \n",
       "4            0.00        0               0  \n",
       "5            0.00        0               0  \n",
       "6            0.00        0               0  \n",
       "7            0.00        0               0  \n",
       "8            0.00        0               0  \n",
       "9        40348.79        0               0  "
      ]
     },
     "execution_count": 48,
     "metadata": {},
     "output_type": "execute_result"
    }
   ],
   "source": [
    "fraud_data_new.head(n=10)"
   ]
  },
  {
   "cell_type": "markdown",
   "id": "2b28c51a",
   "metadata": {},
   "source": [
    "### Feature selection"
   ]
  },
  {
   "cell_type": "code",
   "execution_count": 49,
   "id": "e2d0c05e",
   "metadata": {},
   "outputs": [],
   "source": [
    "new_data = fraud_data_new.iloc[:,1:8]"
   ]
  },
  {
   "cell_type": "code",
   "execution_count": 50,
   "id": "bb0b9f9f",
   "metadata": {},
   "outputs": [
    {
     "data": {
      "text/html": [
       "<div>\n",
       "<style scoped>\n",
       "    .dataframe tbody tr th:only-of-type {\n",
       "        vertical-align: middle;\n",
       "    }\n",
       "\n",
       "    .dataframe tbody tr th {\n",
       "        vertical-align: top;\n",
       "    }\n",
       "\n",
       "    .dataframe thead th {\n",
       "        text-align: right;\n",
       "    }\n",
       "</style>\n",
       "<table border=\"1\" class=\"dataframe\">\n",
       "  <thead>\n",
       "    <tr style=\"text-align: right;\">\n",
       "      <th></th>\n",
       "      <th>type</th>\n",
       "      <th>amount</th>\n",
       "      <th>oldbalanceOrg</th>\n",
       "      <th>newbalanceOrig</th>\n",
       "      <th>oldbalanceDest</th>\n",
       "      <th>newbalanceDest</th>\n",
       "      <th>isFraud</th>\n",
       "    </tr>\n",
       "  </thead>\n",
       "  <tbody>\n",
       "    <tr>\n",
       "      <th>0</th>\n",
       "      <td>PAYMENT</td>\n",
       "      <td>9839.64</td>\n",
       "      <td>170136.00</td>\n",
       "      <td>160296.36</td>\n",
       "      <td>0.0</td>\n",
       "      <td>0.00</td>\n",
       "      <td>0</td>\n",
       "    </tr>\n",
       "    <tr>\n",
       "      <th>1</th>\n",
       "      <td>PAYMENT</td>\n",
       "      <td>1864.28</td>\n",
       "      <td>21249.00</td>\n",
       "      <td>19384.72</td>\n",
       "      <td>0.0</td>\n",
       "      <td>0.00</td>\n",
       "      <td>0</td>\n",
       "    </tr>\n",
       "    <tr>\n",
       "      <th>2</th>\n",
       "      <td>TRANSFER</td>\n",
       "      <td>181.00</td>\n",
       "      <td>181.00</td>\n",
       "      <td>0.00</td>\n",
       "      <td>0.0</td>\n",
       "      <td>0.00</td>\n",
       "      <td>1</td>\n",
       "    </tr>\n",
       "    <tr>\n",
       "      <th>3</th>\n",
       "      <td>CASH_OUT</td>\n",
       "      <td>181.00</td>\n",
       "      <td>181.00</td>\n",
       "      <td>0.00</td>\n",
       "      <td>21182.0</td>\n",
       "      <td>0.00</td>\n",
       "      <td>1</td>\n",
       "    </tr>\n",
       "    <tr>\n",
       "      <th>4</th>\n",
       "      <td>PAYMENT</td>\n",
       "      <td>11668.14</td>\n",
       "      <td>41554.00</td>\n",
       "      <td>29885.86</td>\n",
       "      <td>0.0</td>\n",
       "      <td>0.00</td>\n",
       "      <td>0</td>\n",
       "    </tr>\n",
       "    <tr>\n",
       "      <th>5</th>\n",
       "      <td>PAYMENT</td>\n",
       "      <td>7817.71</td>\n",
       "      <td>53860.00</td>\n",
       "      <td>46042.29</td>\n",
       "      <td>0.0</td>\n",
       "      <td>0.00</td>\n",
       "      <td>0</td>\n",
       "    </tr>\n",
       "    <tr>\n",
       "      <th>6</th>\n",
       "      <td>PAYMENT</td>\n",
       "      <td>7107.77</td>\n",
       "      <td>183195.00</td>\n",
       "      <td>176087.23</td>\n",
       "      <td>0.0</td>\n",
       "      <td>0.00</td>\n",
       "      <td>0</td>\n",
       "    </tr>\n",
       "    <tr>\n",
       "      <th>7</th>\n",
       "      <td>PAYMENT</td>\n",
       "      <td>7861.64</td>\n",
       "      <td>176087.23</td>\n",
       "      <td>168225.59</td>\n",
       "      <td>0.0</td>\n",
       "      <td>0.00</td>\n",
       "      <td>0</td>\n",
       "    </tr>\n",
       "    <tr>\n",
       "      <th>8</th>\n",
       "      <td>PAYMENT</td>\n",
       "      <td>4024.36</td>\n",
       "      <td>2671.00</td>\n",
       "      <td>0.00</td>\n",
       "      <td>0.0</td>\n",
       "      <td>0.00</td>\n",
       "      <td>0</td>\n",
       "    </tr>\n",
       "    <tr>\n",
       "      <th>9</th>\n",
       "      <td>DEBIT</td>\n",
       "      <td>5337.77</td>\n",
       "      <td>41720.00</td>\n",
       "      <td>36382.23</td>\n",
       "      <td>41898.0</td>\n",
       "      <td>40348.79</td>\n",
       "      <td>0</td>\n",
       "    </tr>\n",
       "  </tbody>\n",
       "</table>\n",
       "</div>"
      ],
      "text/plain": [
       "       type    amount  oldbalanceOrg  newbalanceOrig  oldbalanceDest  \\\n",
       "0   PAYMENT   9839.64      170136.00       160296.36             0.0   \n",
       "1   PAYMENT   1864.28       21249.00        19384.72             0.0   \n",
       "2  TRANSFER    181.00         181.00            0.00             0.0   \n",
       "3  CASH_OUT    181.00         181.00            0.00         21182.0   \n",
       "4   PAYMENT  11668.14       41554.00        29885.86             0.0   \n",
       "5   PAYMENT   7817.71       53860.00        46042.29             0.0   \n",
       "6   PAYMENT   7107.77      183195.00       176087.23             0.0   \n",
       "7   PAYMENT   7861.64      176087.23       168225.59             0.0   \n",
       "8   PAYMENT   4024.36        2671.00            0.00             0.0   \n",
       "9     DEBIT   5337.77       41720.00        36382.23         41898.0   \n",
       "\n",
       "   newbalanceDest  isFraud  \n",
       "0            0.00        0  \n",
       "1            0.00        0  \n",
       "2            0.00        1  \n",
       "3            0.00        1  \n",
       "4            0.00        0  \n",
       "5            0.00        0  \n",
       "6            0.00        0  \n",
       "7            0.00        0  \n",
       "8            0.00        0  \n",
       "9        40348.79        0  "
      ]
     },
     "execution_count": 50,
     "metadata": {},
     "output_type": "execute_result"
    }
   ],
   "source": [
    "new_data.head(n=10)"
   ]
  },
  {
   "cell_type": "code",
   "execution_count": 51,
   "id": "bb40835a",
   "metadata": {},
   "outputs": [
    {
     "data": {
      "text/plain": [
       "type   amount  oldbalanceOrg  newbalanceOrig  oldbalanceDest  newbalanceDest  isFraud\n",
       "False  False   False          False           False           False           False      6362620\n",
       "Name: count, dtype: int64"
      ]
     },
     "execution_count": 51,
     "metadata": {},
     "output_type": "execute_result"
    }
   ],
   "source": [
    "new_data.isna().value_counts()\n",
    "# So there is no Nan values in Our data"
   ]
  },
  {
   "cell_type": "markdown",
   "id": "70db8f16",
   "metadata": {},
   "source": [
    "###  Encoding Categorical Data"
   ]
  },
  {
   "cell_type": "markdown",
   "id": "78b42a5b",
   "metadata": {},
   "source": [
    "**Using OneHot encoding**"
   ]
  },
  {
   "cell_type": "code",
   "execution_count": 52,
   "id": "2fa68a1b",
   "metadata": {},
   "outputs": [],
   "source": [
    "from sklearn.compose import ColumnTransformer\n",
    "from sklearn.preprocessing import OneHotEncoder"
   ]
  },
  {
   "cell_type": "code",
   "execution_count": 53,
   "id": "8bfb3d61",
   "metadata": {},
   "outputs": [],
   "source": [
    "ct = ColumnTransformer(transformers=[(\"encoder\", OneHotEncoder(),[0])],remainder = \"passthrough\")"
   ]
  },
  {
   "cell_type": "code",
   "execution_count": 54,
   "id": "f02ce2f7",
   "metadata": {},
   "outputs": [],
   "source": [
    "X = ct.fit_transform(new_data)"
   ]
  },
  {
   "cell_type": "code",
   "execution_count": 55,
   "id": "a0432ec9",
   "metadata": {},
   "outputs": [
    {
     "data": {
      "text/html": [
       "<div>\n",
       "<style scoped>\n",
       "    .dataframe tbody tr th:only-of-type {\n",
       "        vertical-align: middle;\n",
       "    }\n",
       "\n",
       "    .dataframe tbody tr th {\n",
       "        vertical-align: top;\n",
       "    }\n",
       "\n",
       "    .dataframe thead th {\n",
       "        text-align: right;\n",
       "    }\n",
       "</style>\n",
       "<table border=\"1\" class=\"dataframe\">\n",
       "  <thead>\n",
       "    <tr style=\"text-align: right;\">\n",
       "      <th></th>\n",
       "      <th>0</th>\n",
       "      <th>1</th>\n",
       "      <th>2</th>\n",
       "      <th>3</th>\n",
       "      <th>4</th>\n",
       "      <th>5</th>\n",
       "      <th>6</th>\n",
       "      <th>7</th>\n",
       "      <th>8</th>\n",
       "      <th>9</th>\n",
       "      <th>10</th>\n",
       "    </tr>\n",
       "  </thead>\n",
       "  <tbody>\n",
       "    <tr>\n",
       "      <th>0</th>\n",
       "      <td>0.0</td>\n",
       "      <td>0.0</td>\n",
       "      <td>0.0</td>\n",
       "      <td>1.0</td>\n",
       "      <td>0.0</td>\n",
       "      <td>9839.64</td>\n",
       "      <td>170136.0</td>\n",
       "      <td>160296.36</td>\n",
       "      <td>0.0</td>\n",
       "      <td>0.0</td>\n",
       "      <td>0.0</td>\n",
       "    </tr>\n",
       "    <tr>\n",
       "      <th>1</th>\n",
       "      <td>0.0</td>\n",
       "      <td>0.0</td>\n",
       "      <td>0.0</td>\n",
       "      <td>1.0</td>\n",
       "      <td>0.0</td>\n",
       "      <td>1864.28</td>\n",
       "      <td>21249.0</td>\n",
       "      <td>19384.72</td>\n",
       "      <td>0.0</td>\n",
       "      <td>0.0</td>\n",
       "      <td>0.0</td>\n",
       "    </tr>\n",
       "    <tr>\n",
       "      <th>2</th>\n",
       "      <td>0.0</td>\n",
       "      <td>0.0</td>\n",
       "      <td>0.0</td>\n",
       "      <td>0.0</td>\n",
       "      <td>1.0</td>\n",
       "      <td>181.00</td>\n",
       "      <td>181.0</td>\n",
       "      <td>0.00</td>\n",
       "      <td>0.0</td>\n",
       "      <td>0.0</td>\n",
       "      <td>1.0</td>\n",
       "    </tr>\n",
       "    <tr>\n",
       "      <th>3</th>\n",
       "      <td>0.0</td>\n",
       "      <td>1.0</td>\n",
       "      <td>0.0</td>\n",
       "      <td>0.0</td>\n",
       "      <td>0.0</td>\n",
       "      <td>181.00</td>\n",
       "      <td>181.0</td>\n",
       "      <td>0.00</td>\n",
       "      <td>21182.0</td>\n",
       "      <td>0.0</td>\n",
       "      <td>1.0</td>\n",
       "    </tr>\n",
       "    <tr>\n",
       "      <th>4</th>\n",
       "      <td>0.0</td>\n",
       "      <td>0.0</td>\n",
       "      <td>0.0</td>\n",
       "      <td>1.0</td>\n",
       "      <td>0.0</td>\n",
       "      <td>11668.14</td>\n",
       "      <td>41554.0</td>\n",
       "      <td>29885.86</td>\n",
       "      <td>0.0</td>\n",
       "      <td>0.0</td>\n",
       "      <td>0.0</td>\n",
       "    </tr>\n",
       "  </tbody>\n",
       "</table>\n",
       "</div>"
      ],
      "text/plain": [
       "    0    1    2    3    4         5         6          7        8    9    10\n",
       "0  0.0  0.0  0.0  1.0  0.0   9839.64  170136.0  160296.36      0.0  0.0  0.0\n",
       "1  0.0  0.0  0.0  1.0  0.0   1864.28   21249.0   19384.72      0.0  0.0  0.0\n",
       "2  0.0  0.0  0.0  0.0  1.0    181.00     181.0       0.00      0.0  0.0  1.0\n",
       "3  0.0  1.0  0.0  0.0  0.0    181.00     181.0       0.00  21182.0  0.0  1.0\n",
       "4  0.0  0.0  0.0  1.0  0.0  11668.14   41554.0   29885.86      0.0  0.0  0.0"
      ]
     },
     "execution_count": 55,
     "metadata": {},
     "output_type": "execute_result"
    }
   ],
   "source": [
    "pd.DataFrame(X).head()"
   ]
  },
  {
   "cell_type": "code",
   "execution_count": 56,
   "id": "ddb050f4",
   "metadata": {},
   "outputs": [
    {
     "data": {
      "text/plain": [
       "array([[0.00000000e+00, 0.00000000e+00, 0.00000000e+00, ...,\n",
       "        0.00000000e+00, 0.00000000e+00, 0.00000000e+00],\n",
       "       [0.00000000e+00, 0.00000000e+00, 0.00000000e+00, ...,\n",
       "        0.00000000e+00, 0.00000000e+00, 0.00000000e+00],\n",
       "       [0.00000000e+00, 0.00000000e+00, 0.00000000e+00, ...,\n",
       "        0.00000000e+00, 0.00000000e+00, 1.00000000e+00],\n",
       "       ...,\n",
       "       [0.00000000e+00, 1.00000000e+00, 0.00000000e+00, ...,\n",
       "        6.84888400e+04, 6.37989811e+06, 1.00000000e+00],\n",
       "       [0.00000000e+00, 0.00000000e+00, 0.00000000e+00, ...,\n",
       "        0.00000000e+00, 0.00000000e+00, 1.00000000e+00],\n",
       "       [0.00000000e+00, 1.00000000e+00, 0.00000000e+00, ...,\n",
       "        6.51009911e+06, 7.36010163e+06, 1.00000000e+00]])"
      ]
     },
     "execution_count": 56,
     "metadata": {},
     "output_type": "execute_result"
    }
   ],
   "source": [
    "X"
   ]
  },
  {
   "cell_type": "markdown",
   "id": "33e811c3",
   "metadata": {},
   "source": [
    "## Creating a Sample Data for Intial Exploration.\n",
    "### We'll Take 25% of data."
   ]
  },
  {
   "cell_type": "code",
   "execution_count": 57,
   "id": "7df1d312",
   "metadata": {},
   "outputs": [
    {
     "data": {
      "text/plain": [
       "(6362620, 11)"
      ]
     },
     "execution_count": 57,
     "metadata": {},
     "output_type": "execute_result"
    }
   ],
   "source": [
    "# Quite large data sample\n",
    "t_data = pd.DataFrame(X)\n",
    "t_data.shape"
   ]
  },
  {
   "cell_type": "code",
   "execution_count": 58,
   "id": "f6e834a3",
   "metadata": {},
   "outputs": [
    {
     "data": {
      "text/plain": [
       "(1590655, 11)"
      ]
     },
     "execution_count": 58,
     "metadata": {},
     "output_type": "execute_result"
    }
   ],
   "source": [
    "fraction_data= t_data.sample(frac = 0.25,random_state=1)\n",
    "\n",
    "fraction_data.shape"
   ]
  },
  {
   "cell_type": "code",
   "execution_count": 59,
   "id": "6cd62a7b",
   "metadata": {},
   "outputs": [
    {
     "data": {
      "text/html": [
       "<div>\n",
       "<style scoped>\n",
       "    .dataframe tbody tr th:only-of-type {\n",
       "        vertical-align: middle;\n",
       "    }\n",
       "\n",
       "    .dataframe tbody tr th {\n",
       "        vertical-align: top;\n",
       "    }\n",
       "\n",
       "    .dataframe thead th {\n",
       "        text-align: right;\n",
       "    }\n",
       "</style>\n",
       "<table border=\"1\" class=\"dataframe\">\n",
       "  <thead>\n",
       "    <tr style=\"text-align: right;\">\n",
       "      <th></th>\n",
       "      <th>0</th>\n",
       "      <th>1</th>\n",
       "      <th>2</th>\n",
       "      <th>3</th>\n",
       "      <th>4</th>\n",
       "      <th>5</th>\n",
       "      <th>6</th>\n",
       "      <th>7</th>\n",
       "      <th>8</th>\n",
       "      <th>9</th>\n",
       "      <th>10</th>\n",
       "    </tr>\n",
       "  </thead>\n",
       "  <tbody>\n",
       "    <tr>\n",
       "      <th>6322570</th>\n",
       "      <td>1.0</td>\n",
       "      <td>0.0</td>\n",
       "      <td>0.0</td>\n",
       "      <td>0.0</td>\n",
       "      <td>0.0</td>\n",
       "      <td>23557.12</td>\n",
       "      <td>8059.00</td>\n",
       "      <td>31616.12</td>\n",
       "      <td>169508.66</td>\n",
       "      <td>145951.53</td>\n",
       "      <td>0.0</td>\n",
       "    </tr>\n",
       "    <tr>\n",
       "      <th>3621196</th>\n",
       "      <td>0.0</td>\n",
       "      <td>0.0</td>\n",
       "      <td>0.0</td>\n",
       "      <td>1.0</td>\n",
       "      <td>0.0</td>\n",
       "      <td>6236.13</td>\n",
       "      <td>0.00</td>\n",
       "      <td>0.00</td>\n",
       "      <td>0.00</td>\n",
       "      <td>0.00</td>\n",
       "      <td>0.0</td>\n",
       "    </tr>\n",
       "    <tr>\n",
       "      <th>1226256</th>\n",
       "      <td>0.0</td>\n",
       "      <td>0.0</td>\n",
       "      <td>0.0</td>\n",
       "      <td>1.0</td>\n",
       "      <td>0.0</td>\n",
       "      <td>33981.87</td>\n",
       "      <td>18745.72</td>\n",
       "      <td>0.00</td>\n",
       "      <td>0.00</td>\n",
       "      <td>0.00</td>\n",
       "      <td>0.0</td>\n",
       "    </tr>\n",
       "    <tr>\n",
       "      <th>2803274</th>\n",
       "      <td>0.0</td>\n",
       "      <td>1.0</td>\n",
       "      <td>0.0</td>\n",
       "      <td>0.0</td>\n",
       "      <td>0.0</td>\n",
       "      <td>263006.42</td>\n",
       "      <td>20072.00</td>\n",
       "      <td>0.00</td>\n",
       "      <td>390253.56</td>\n",
       "      <td>653259.98</td>\n",
       "      <td>0.0</td>\n",
       "    </tr>\n",
       "    <tr>\n",
       "      <th>3201247</th>\n",
       "      <td>0.0</td>\n",
       "      <td>1.0</td>\n",
       "      <td>0.0</td>\n",
       "      <td>0.0</td>\n",
       "      <td>0.0</td>\n",
       "      <td>152013.74</td>\n",
       "      <td>20765.00</td>\n",
       "      <td>0.00</td>\n",
       "      <td>252719.19</td>\n",
       "      <td>404732.93</td>\n",
       "      <td>0.0</td>\n",
       "    </tr>\n",
       "  </tbody>\n",
       "</table>\n",
       "</div>"
      ],
      "text/plain": [
       "          0    1    2    3    4          5         6         7          8   \\\n",
       "6322570  1.0  0.0  0.0  0.0  0.0   23557.12   8059.00  31616.12  169508.66   \n",
       "3621196  0.0  0.0  0.0  1.0  0.0    6236.13      0.00      0.00       0.00   \n",
       "1226256  0.0  0.0  0.0  1.0  0.0   33981.87  18745.72      0.00       0.00   \n",
       "2803274  0.0  1.0  0.0  0.0  0.0  263006.42  20072.00      0.00  390253.56   \n",
       "3201247  0.0  1.0  0.0  0.0  0.0  152013.74  20765.00      0.00  252719.19   \n",
       "\n",
       "                9    10  \n",
       "6322570  145951.53  0.0  \n",
       "3621196       0.00  0.0  \n",
       "1226256       0.00  0.0  \n",
       "2803274  653259.98  0.0  \n",
       "3201247  404732.93  0.0  "
      ]
     },
     "execution_count": 59,
     "metadata": {},
     "output_type": "execute_result"
    }
   ],
   "source": [
    "fraction_data.head()"
   ]
  },
  {
   "cell_type": "markdown",
   "id": "35382e63",
   "metadata": {},
   "source": [
    "**Creating x,y**"
   ]
  },
  {
   "cell_type": "code",
   "execution_count": 60,
   "id": "20375609",
   "metadata": {},
   "outputs": [],
   "source": [
    "x = fraction_data.iloc[:,:-1]\n",
    "y = fraction_data.iloc[:,-1]"
   ]
  },
  {
   "cell_type": "markdown",
   "id": "10eb84c2",
   "metadata": {},
   "source": [
    "### Creating Training and Test Datasets"
   ]
  },
  {
   "cell_type": "code",
   "execution_count": 61,
   "id": "90648777",
   "metadata": {},
   "outputs": [],
   "source": [
    "from sklearn.model_selection import train_test_split"
   ]
  },
  {
   "cell_type": "code",
   "execution_count": 62,
   "id": "7920811b",
   "metadata": {},
   "outputs": [],
   "source": [
    "x_train,x_test,y_train,y_test = train_test_split(x,y,test_size= 0.2,random_state= 1,shuffle= True)"
   ]
  },
  {
   "cell_type": "code",
   "execution_count": 63,
   "id": "799f3d52",
   "metadata": {},
   "outputs": [
    {
     "data": {
      "text/html": [
       "<div>\n",
       "<style scoped>\n",
       "    .dataframe tbody tr th:only-of-type {\n",
       "        vertical-align: middle;\n",
       "    }\n",
       "\n",
       "    .dataframe tbody tr th {\n",
       "        vertical-align: top;\n",
       "    }\n",
       "\n",
       "    .dataframe thead th {\n",
       "        text-align: right;\n",
       "    }\n",
       "</style>\n",
       "<table border=\"1\" class=\"dataframe\">\n",
       "  <thead>\n",
       "    <tr style=\"text-align: right;\">\n",
       "      <th></th>\n",
       "      <th>0</th>\n",
       "      <th>1</th>\n",
       "      <th>2</th>\n",
       "      <th>3</th>\n",
       "      <th>4</th>\n",
       "      <th>5</th>\n",
       "      <th>6</th>\n",
       "      <th>7</th>\n",
       "      <th>8</th>\n",
       "      <th>9</th>\n",
       "    </tr>\n",
       "  </thead>\n",
       "  <tbody>\n",
       "    <tr>\n",
       "      <th>2858944</th>\n",
       "      <td>0.0</td>\n",
       "      <td>1.0</td>\n",
       "      <td>0.0</td>\n",
       "      <td>0.0</td>\n",
       "      <td>0.0</td>\n",
       "      <td>26481.59</td>\n",
       "      <td>0.0</td>\n",
       "      <td>0.0</td>\n",
       "      <td>408904.15</td>\n",
       "      <td>435385.74</td>\n",
       "    </tr>\n",
       "    <tr>\n",
       "      <th>5314620</th>\n",
       "      <td>0.0</td>\n",
       "      <td>0.0</td>\n",
       "      <td>0.0</td>\n",
       "      <td>0.0</td>\n",
       "      <td>1.0</td>\n",
       "      <td>2098389.34</td>\n",
       "      <td>0.0</td>\n",
       "      <td>0.0</td>\n",
       "      <td>14679569.28</td>\n",
       "      <td>16777958.62</td>\n",
       "    </tr>\n",
       "    <tr>\n",
       "      <th>3640859</th>\n",
       "      <td>0.0</td>\n",
       "      <td>0.0</td>\n",
       "      <td>0.0</td>\n",
       "      <td>1.0</td>\n",
       "      <td>0.0</td>\n",
       "      <td>12530.25</td>\n",
       "      <td>0.0</td>\n",
       "      <td>0.0</td>\n",
       "      <td>0.00</td>\n",
       "      <td>0.00</td>\n",
       "    </tr>\n",
       "    <tr>\n",
       "      <th>353920</th>\n",
       "      <td>0.0</td>\n",
       "      <td>0.0</td>\n",
       "      <td>0.0</td>\n",
       "      <td>1.0</td>\n",
       "      <td>0.0</td>\n",
       "      <td>9696.39</td>\n",
       "      <td>0.0</td>\n",
       "      <td>0.0</td>\n",
       "      <td>0.00</td>\n",
       "      <td>0.00</td>\n",
       "    </tr>\n",
       "    <tr>\n",
       "      <th>3478354</th>\n",
       "      <td>0.0</td>\n",
       "      <td>0.0</td>\n",
       "      <td>0.0</td>\n",
       "      <td>0.0</td>\n",
       "      <td>1.0</td>\n",
       "      <td>179006.68</td>\n",
       "      <td>0.0</td>\n",
       "      <td>0.0</td>\n",
       "      <td>609635.20</td>\n",
       "      <td>788641.88</td>\n",
       "    </tr>\n",
       "  </tbody>\n",
       "</table>\n",
       "</div>"
      ],
      "text/plain": [
       "           0    1    2    3    4           5    6    7            8  \\\n",
       "2858944  0.0  1.0  0.0  0.0  0.0    26481.59  0.0  0.0    408904.15   \n",
       "5314620  0.0  0.0  0.0  0.0  1.0  2098389.34  0.0  0.0  14679569.28   \n",
       "3640859  0.0  0.0  0.0  1.0  0.0    12530.25  0.0  0.0         0.00   \n",
       "353920   0.0  0.0  0.0  1.0  0.0     9696.39  0.0  0.0         0.00   \n",
       "3478354  0.0  0.0  0.0  0.0  1.0   179006.68  0.0  0.0    609635.20   \n",
       "\n",
       "                   9  \n",
       "2858944    435385.74  \n",
       "5314620  16777958.62  \n",
       "3640859         0.00  \n",
       "353920          0.00  \n",
       "3478354    788641.88  "
      ]
     },
     "execution_count": 63,
     "metadata": {},
     "output_type": "execute_result"
    }
   ],
   "source": [
    "x_train.head()"
   ]
  },
  {
   "cell_type": "markdown",
   "id": "bf01958b",
   "metadata": {},
   "source": [
    "### Feature Scaling"
   ]
  },
  {
   "cell_type": "code",
   "execution_count": 64,
   "id": "2fc5e04c",
   "metadata": {},
   "outputs": [
    {
     "name": "stderr",
     "output_type": "stream",
     "text": [
      "<ipython-input-64-515f9f77b2b4>:3: SettingWithCopyWarning: \n",
      "A value is trying to be set on a copy of a slice from a DataFrame\n",
      "\n",
      "See the caveats in the documentation: https://pandas.pydata.org/pandas-docs/stable/user_guide/indexing.html#returning-a-view-versus-a-copy\n",
      "  x_train.iloc[:,5:] = sc.fit_transform(x_train.iloc[:,5:])\n",
      "<ipython-input-64-515f9f77b2b4>:4: SettingWithCopyWarning: \n",
      "A value is trying to be set on a copy of a slice from a DataFrame\n",
      "\n",
      "See the caveats in the documentation: https://pandas.pydata.org/pandas-docs/stable/user_guide/indexing.html#returning-a-view-versus-a-copy\n",
      "  x_test.iloc[:,5:] = sc.fit_transform(x_test.iloc[:,5:])\n"
     ]
    }
   ],
   "source": [
    "from sklearn.preprocessing import StandardScaler\n",
    "sc = StandardScaler()\n",
    "x_train.iloc[:,5:] = sc.fit_transform(x_train.iloc[:,5:])\n",
    "x_test.iloc[:,5:] = sc.fit_transform(x_test.iloc[:,5:])"
   ]
  },
  {
   "cell_type": "code",
   "execution_count": 65,
   "id": "17169d6f",
   "metadata": {},
   "outputs": [
    {
     "data": {
      "text/html": [
       "<div>\n",
       "<style scoped>\n",
       "    .dataframe tbody tr th:only-of-type {\n",
       "        vertical-align: middle;\n",
       "    }\n",
       "\n",
       "    .dataframe tbody tr th {\n",
       "        vertical-align: top;\n",
       "    }\n",
       "\n",
       "    .dataframe thead th {\n",
       "        text-align: right;\n",
       "    }\n",
       "</style>\n",
       "<table border=\"1\" class=\"dataframe\">\n",
       "  <thead>\n",
       "    <tr style=\"text-align: right;\">\n",
       "      <th></th>\n",
       "      <th>0</th>\n",
       "      <th>1</th>\n",
       "      <th>2</th>\n",
       "      <th>3</th>\n",
       "      <th>4</th>\n",
       "      <th>5</th>\n",
       "      <th>6</th>\n",
       "      <th>7</th>\n",
       "      <th>8</th>\n",
       "      <th>9</th>\n",
       "    </tr>\n",
       "  </thead>\n",
       "  <tbody>\n",
       "    <tr>\n",
       "      <th>2858944</th>\n",
       "      <td>0.0</td>\n",
       "      <td>1.0</td>\n",
       "      <td>0.0</td>\n",
       "      <td>0.0</td>\n",
       "      <td>0.0</td>\n",
       "      <td>-0.256753</td>\n",
       "      <td>-0.288817</td>\n",
       "      <td>-0.292531</td>\n",
       "      <td>-0.203768</td>\n",
       "      <td>-0.215375</td>\n",
       "    </tr>\n",
       "    <tr>\n",
       "      <th>5314620</th>\n",
       "      <td>0.0</td>\n",
       "      <td>0.0</td>\n",
       "      <td>0.0</td>\n",
       "      <td>0.0</td>\n",
       "      <td>1.0</td>\n",
       "      <td>3.206119</td>\n",
       "      <td>-0.288817</td>\n",
       "      <td>-0.292531</td>\n",
       "      <td>3.992432</td>\n",
       "      <td>4.234334</td>\n",
       "    </tr>\n",
       "    <tr>\n",
       "      <th>3640859</th>\n",
       "      <td>0.0</td>\n",
       "      <td>0.0</td>\n",
       "      <td>0.0</td>\n",
       "      <td>1.0</td>\n",
       "      <td>0.0</td>\n",
       "      <td>-0.280071</td>\n",
       "      <td>-0.288817</td>\n",
       "      <td>-0.292531</td>\n",
       "      <td>-0.324004</td>\n",
       "      <td>-0.333920</td>\n",
       "    </tr>\n",
       "    <tr>\n",
       "      <th>353920</th>\n",
       "      <td>0.0</td>\n",
       "      <td>0.0</td>\n",
       "      <td>0.0</td>\n",
       "      <td>1.0</td>\n",
       "      <td>0.0</td>\n",
       "      <td>-0.284807</td>\n",
       "      <td>-0.288817</td>\n",
       "      <td>-0.292531</td>\n",
       "      <td>-0.324004</td>\n",
       "      <td>-0.333920</td>\n",
       "    </tr>\n",
       "    <tr>\n",
       "      <th>3478354</th>\n",
       "      <td>0.0</td>\n",
       "      <td>0.0</td>\n",
       "      <td>0.0</td>\n",
       "      <td>0.0</td>\n",
       "      <td>1.0</td>\n",
       "      <td>-0.001831</td>\n",
       "      <td>-0.288817</td>\n",
       "      <td>-0.292531</td>\n",
       "      <td>-0.144745</td>\n",
       "      <td>-0.119191</td>\n",
       "    </tr>\n",
       "  </tbody>\n",
       "</table>\n",
       "</div>"
      ],
      "text/plain": [
       "           0    1    2    3    4         5         6         7         8  \\\n",
       "2858944  0.0  1.0  0.0  0.0  0.0 -0.256753 -0.288817 -0.292531 -0.203768   \n",
       "5314620  0.0  0.0  0.0  0.0  1.0  3.206119 -0.288817 -0.292531  3.992432   \n",
       "3640859  0.0  0.0  0.0  1.0  0.0 -0.280071 -0.288817 -0.292531 -0.324004   \n",
       "353920   0.0  0.0  0.0  1.0  0.0 -0.284807 -0.288817 -0.292531 -0.324004   \n",
       "3478354  0.0  0.0  0.0  0.0  1.0 -0.001831 -0.288817 -0.292531 -0.144745   \n",
       "\n",
       "                9  \n",
       "2858944 -0.215375  \n",
       "5314620  4.234334  \n",
       "3640859 -0.333920  \n",
       "353920  -0.333920  \n",
       "3478354 -0.119191  "
      ]
     },
     "execution_count": 65,
     "metadata": {},
     "output_type": "execute_result"
    }
   ],
   "source": [
    "x_train.head()"
   ]
  },
  {
   "cell_type": "code",
   "execution_count": 66,
   "id": "126e0d23",
   "metadata": {},
   "outputs": [
    {
     "data": {
      "text/html": [
       "<div>\n",
       "<style scoped>\n",
       "    .dataframe tbody tr th:only-of-type {\n",
       "        vertical-align: middle;\n",
       "    }\n",
       "\n",
       "    .dataframe tbody tr th {\n",
       "        vertical-align: top;\n",
       "    }\n",
       "\n",
       "    .dataframe thead th {\n",
       "        text-align: right;\n",
       "    }\n",
       "</style>\n",
       "<table border=\"1\" class=\"dataframe\">\n",
       "  <thead>\n",
       "    <tr style=\"text-align: right;\">\n",
       "      <th></th>\n",
       "      <th>0</th>\n",
       "      <th>1</th>\n",
       "      <th>2</th>\n",
       "      <th>3</th>\n",
       "      <th>4</th>\n",
       "      <th>5</th>\n",
       "      <th>6</th>\n",
       "      <th>7</th>\n",
       "      <th>8</th>\n",
       "      <th>9</th>\n",
       "    </tr>\n",
       "  </thead>\n",
       "  <tbody>\n",
       "    <tr>\n",
       "      <th>2577983</th>\n",
       "      <td>1.0</td>\n",
       "      <td>0.0</td>\n",
       "      <td>0.0</td>\n",
       "      <td>0.0</td>\n",
       "      <td>0.0</td>\n",
       "      <td>-0.287832</td>\n",
       "      <td>-0.283036</td>\n",
       "      <td>-0.284045</td>\n",
       "      <td>-0.319053</td>\n",
       "      <td>-0.332101</td>\n",
       "    </tr>\n",
       "    <tr>\n",
       "      <th>1702852</th>\n",
       "      <td>0.0</td>\n",
       "      <td>0.0</td>\n",
       "      <td>0.0</td>\n",
       "      <td>1.0</td>\n",
       "      <td>0.0</td>\n",
       "      <td>-0.272005</td>\n",
       "      <td>-0.290019</td>\n",
       "      <td>-0.294222</td>\n",
       "      <td>-0.328544</td>\n",
       "      <td>-0.338571</td>\n",
       "    </tr>\n",
       "    <tr>\n",
       "      <th>1036433</th>\n",
       "      <td>0.0</td>\n",
       "      <td>1.0</td>\n",
       "      <td>0.0</td>\n",
       "      <td>0.0</td>\n",
       "      <td>0.0</td>\n",
       "      <td>-0.146459</td>\n",
       "      <td>-0.283764</td>\n",
       "      <td>-0.294222</td>\n",
       "      <td>1.205553</td>\n",
       "      <td>1.109532</td>\n",
       "    </tr>\n",
       "    <tr>\n",
       "      <th>1222871</th>\n",
       "      <td>0.0</td>\n",
       "      <td>1.0</td>\n",
       "      <td>0.0</td>\n",
       "      <td>0.0</td>\n",
       "      <td>0.0</td>\n",
       "      <td>0.418511</td>\n",
       "      <td>-0.286752</td>\n",
       "      <td>-0.294222</td>\n",
       "      <td>-0.103981</td>\n",
       "      <td>-0.011995</td>\n",
       "    </tr>\n",
       "    <tr>\n",
       "      <th>4755450</th>\n",
       "      <td>0.0</td>\n",
       "      <td>1.0</td>\n",
       "      <td>0.0</td>\n",
       "      <td>0.0</td>\n",
       "      <td>0.0</td>\n",
       "      <td>0.059818</td>\n",
       "      <td>-0.286533</td>\n",
       "      <td>-0.294222</td>\n",
       "      <td>-0.328544</td>\n",
       "      <td>-0.279142</td>\n",
       "    </tr>\n",
       "  </tbody>\n",
       "</table>\n",
       "</div>"
      ],
      "text/plain": [
       "           0    1    2    3    4         5         6         7         8  \\\n",
       "2577983  1.0  0.0  0.0  0.0  0.0 -0.287832 -0.283036 -0.284045 -0.319053   \n",
       "1702852  0.0  0.0  0.0  1.0  0.0 -0.272005 -0.290019 -0.294222 -0.328544   \n",
       "1036433  0.0  1.0  0.0  0.0  0.0 -0.146459 -0.283764 -0.294222  1.205553   \n",
       "1222871  0.0  1.0  0.0  0.0  0.0  0.418511 -0.286752 -0.294222 -0.103981   \n",
       "4755450  0.0  1.0  0.0  0.0  0.0  0.059818 -0.286533 -0.294222 -0.328544   \n",
       "\n",
       "                9  \n",
       "2577983 -0.332101  \n",
       "1702852 -0.338571  \n",
       "1036433  1.109532  \n",
       "1222871 -0.011995  \n",
       "4755450 -0.279142  "
      ]
     },
     "execution_count": 66,
     "metadata": {},
     "output_type": "execute_result"
    }
   ],
   "source": [
    "x_test.head()"
   ]
  },
  {
   "cell_type": "code",
   "execution_count": 69,
   "id": "8670f634",
   "metadata": {},
   "outputs": [],
   "source": [
    "# convert them into numpy array\n",
    "x_train = np.array(x_train)\n",
    "x_test = np.array(x_test)\n",
    "y_train = np.array(y_train)\n",
    "y_test = np.array(y_test)\n",
    "\n"
   ]
  },
  {
   "cell_type": "markdown",
   "id": "488e9fab",
   "metadata": {},
   "source": [
    "# ML MODELS "
   ]
  },
  {
   "cell_type": "markdown",
   "id": "5c5d69b1",
   "metadata": {},
   "source": [
    "## K-Nearest neighbour (KNN)\n",
    "**KNN -** K-Nearest Neighbors (KNN) is a versatile algorithm used for classification and regression tasks. It assigns a new data point a label or value based on the majority class or average of k-nearest neighbors in the feature space. The algorithm relies on distance metrics, such as Euclidean distance, to determine proximity. The choice of the parameter k influences the model's bias-variance trade-off, with smaller values capturing more local patterns and larger values smoothing the predictions.\n",
    "* For more info :- https://www.javatpoint.com/k-nearest-neighbor-algorithm-for-machine-learning"
   ]
  },
  {
   "cell_type": "code",
   "execution_count": 74,
   "id": "57377959",
   "metadata": {},
   "outputs": [],
   "source": [
    "from sklearn.neighbors import KNeighborsClassifier"
   ]
  },
  {
   "cell_type": "code",
   "execution_count": 75,
   "id": "97c95786",
   "metadata": {},
   "outputs": [
    {
     "data": {
      "text/plain": [
       "12"
      ]
     },
     "execution_count": 75,
     "metadata": {},
     "output_type": "execute_result"
    }
   ],
   "source": [
    "import os\n",
    "n_jobs = os.cpu_count()\n",
    "n_jobs"
   ]
  },
  {
   "cell_type": "code",
   "execution_count": 71,
   "id": "84657333",
   "metadata": {},
   "outputs": [],
   "source": [
    "classifier = KNeighborsClassifier(n_neighbors=5,p = 2,metric='minkowski', metric_params=None, n_jobs= n_jobs)"
   ]
  },
  {
   "cell_type": "code",
   "execution_count": 72,
   "id": "d46feedf",
   "metadata": {},
   "outputs": [
    {
     "data": {
      "text/plain": [
       "KNeighborsClassifier(n_jobs=12)"
      ]
     },
     "execution_count": 72,
     "metadata": {},
     "output_type": "execute_result"
    }
   ],
   "source": [
    "classifier.fit(x_train,y_train)"
   ]
  },
  {
   "cell_type": "markdown",
   "id": "b28fe4ed",
   "metadata": {},
   "source": [
    "**Predicting on test dataset**"
   ]
  },
  {
   "cell_type": "code",
   "execution_count": 73,
   "id": "73881a08",
   "metadata": {},
   "outputs": [],
   "source": [
    "knn_y_pred = classifier.predict(x_test)"
   ]
  },
  {
   "cell_type": "code",
   "execution_count": 74,
   "id": "fdbd3a0d",
   "metadata": {},
   "outputs": [
    {
     "data": {
      "text/plain": [
       "99.93336078533686"
      ]
     },
     "execution_count": 74,
     "metadata": {},
     "output_type": "execute_result"
    }
   ],
   "source": [
    "length = len(knn_y_pred)\n",
    "accuracy_fn(y_test,knn_y_pred,length)"
   ]
  },
  {
   "cell_type": "code",
   "execution_count": 75,
   "id": "94a7e630",
   "metadata": {},
   "outputs": [
    {
     "data": {
      "image/png": "[encoded data removed]",
      "text/plain": [
       "<Figure size 288x288 with 1 Axes>"
      ]
     },
     "metadata": {
      "needs_background": "light"
     },
     "output_type": "display_data"
    }
   ],
   "source": [
    "confusion_matrix_fun(y_test,knn_y_pred)"
   ]
  },
  {
   "cell_type": "markdown",
   "id": "44ce2bae",
   "metadata": {},
   "source": [
    "#### As we can see using Knn fraud detector we are chatching more number of frauds tha our original fraud detector"
   ]
  },
  {
   "cell_type": "markdown",
   "id": "74622ea0",
   "metadata": {},
   "source": [
    "#### KNN visualization (Baad mai time mila tho)"
   ]
  },
  {
   "cell_type": "markdown",
   "id": "1ae8b396",
   "metadata": {},
   "source": [
    "## Support Vector Machine (SVM)\n",
    "**SVM -** Support Vector Machine (SVM) is a powerful supervised machine learning algorithm used for classification and regression tasks. It aims to find a hyperplane that maximally separates data points of different classes in the feature space. SVM can handle linear and non-linear relationships by using different kernel functions. The optimal hyperplane is chosen based on the support vectors, which are data points closest to the decision boundary. SVM is effective in high-dimensional spaces, resistant to overfitting, and works well for both binary and multiclass classification problems. The regularization parameter (C) influences the trade-off between achieving a smooth decision boundary and classifying training points correctly. SVM is sensitive to scaling, and preprocessing data is crucial for optimal performance.\n",
    "\n",
    "* For more info. :- https://www.javatpoint.com/machine-learning-support-vector-machine-algorithm"
   ]
  },
  {
   "cell_type": "code",
   "execution_count": 99,
   "id": "b6fe1ce5",
   "metadata": {},
   "outputs": [],
   "source": [
    "from sklearn.svm import SVC"
   ]
  },
  {
   "cell_type": "code",
   "execution_count": 100,
   "id": "5c35f2a5",
   "metadata": {},
   "outputs": [],
   "source": [
    "svm_classifier = SVC(kernel='linear',random_state=0)"
   ]
  },
  {
   "cell_type": "code",
   "execution_count": 101,
   "id": "1a16ecd9",
   "metadata": {},
   "outputs": [
    {
     "data": {
      "text/plain": [
       "SVC(kernel='linear', random_state=0)"
      ]
     },
     "execution_count": 101,
     "metadata": {},
     "output_type": "execute_result"
    }
   ],
   "source": [
    "svm_classifier.fit(x_train,y_train)"
   ]
  },
  {
   "cell_type": "code",
   "execution_count": 102,
   "id": "64a57159",
   "metadata": {},
   "outputs": [],
   "source": [
    "svm_y_pred = svm_classifier.predict(x_test)"
   ]
  },
  {
   "cell_type": "markdown",
   "id": "79db741d",
   "metadata": {},
   "source": [
    "#### Calculating Accuracy and Confusion Matrix"
   ]
  },
  {
   "cell_type": "code",
   "execution_count": 105,
   "id": "3289cc90",
   "metadata": {},
   "outputs": [],
   "source": [
    "length = len(svm_y_pred)"
   ]
  },
  {
   "cell_type": "code",
   "execution_count": 106,
   "id": "205f348c",
   "metadata": {},
   "outputs": [
    {
     "data": {
      "text/plain": [
       "99.89941250616884"
      ]
     },
     "execution_count": 106,
     "metadata": {},
     "output_type": "execute_result"
    }
   ],
   "source": [
    "accuracy_fn(y_test,svm_y_pred,length)"
   ]
  },
  {
   "cell_type": "code",
   "execution_count": 107,
   "id": "e6ade064",
   "metadata": {},
   "outputs": [
    {
     "data": {
      "image/png": "[encoded data removed]",
      "text/plain": [
       "<Figure size 288x288 with 1 Axes>"
      ]
     },
     "metadata": {
      "needs_background": "light"
     },
     "output_type": "display_data"
    }
   ],
   "source": [
    "confusion_matrix_fun(y_test,svm_y_pred)"
   ]
  },
  {
   "cell_type": "markdown",
   "id": "4a95d68b",
   "metadata": {},
   "source": [
    "## Logistic Regression\n",
    "**LogisticRegression -** Logistic Regression is a binary classification algorithm that predicts the probability of an instance belonging to a specific class. It uses the logistic function to transform the output into a range between 0 and 1. The model interprets the output as the likelihood of the positive class. The decision boundary is determined by a threshold, typically 0.5. Parameters are learned through maximum likelihood estimation during training. Logistic Regression is simple, interpretable, and effective for linear relationships between features and the log-odds of the output. It has applications in diverse fields due to its versatility.\n",
    "* for more info :- https://www.analyticsvidhya.com/blog/2021/07/an-introduction-to-logistic-regression/"
   ]
  },
  {
   "cell_type": "code",
   "execution_count": 115,
   "id": "da319420",
   "metadata": {},
   "outputs": [],
   "source": [
    "from sklearn.linear_model import LogisticRegression"
   ]
  },
  {
   "cell_type": "code",
   "execution_count": 117,
   "id": "59daac82",
   "metadata": {},
   "outputs": [],
   "source": [
    "lg_classifier = LogisticRegression( n_jobs= n_jobs)"
   ]
  },
  {
   "cell_type": "code",
   "execution_count": 120,
   "id": "18b76ddb",
   "metadata": {},
   "outputs": [
    {
     "data": {
      "text/plain": [
       "LogisticRegression(n_jobs=12)"
      ]
     },
     "execution_count": 120,
     "metadata": {},
     "output_type": "execute_result"
    }
   ],
   "source": [
    "lg_classifier.fit(x_train,y_train)"
   ]
  },
  {
   "cell_type": "code",
   "execution_count": 121,
   "id": "68a78d0c",
   "metadata": {},
   "outputs": [],
   "source": [
    "lg_y_pred = lg_classifier.predict(x_test)"
   ]
  },
  {
   "cell_type": "markdown",
   "id": "809b59f0",
   "metadata": {},
   "source": [
    "#### Calculating Accuracy and Confusion Matrix"
   ]
  },
  {
   "cell_type": "code",
   "execution_count": 122,
   "id": "5c70e49f",
   "metadata": {},
   "outputs": [
    {
     "data": {
      "text/plain": [
       "99.89941250616884"
      ]
     },
     "execution_count": 122,
     "metadata": {},
     "output_type": "execute_result"
    }
   ],
   "source": [
    "accuracy_fn(y_test,svm_y_pred,length)"
   ]
  },
  {
   "cell_type": "code",
   "execution_count": 123,
   "id": "a535c236",
   "metadata": {},
   "outputs": [
    {
     "data": {
      "image/png": "[encoded data removed]",
      "text/plain": [
       "<Figure size 288x288 with 1 Axes>"
      ]
     },
     "metadata": {
      "needs_background": "light"
     },
     "output_type": "display_data"
    }
   ],
   "source": [
    "confusion_matrix_fun(y_test,svm_y_pred)"
   ]
  },
  {
   "cell_type": "markdown",
   "id": "3c6aece2",
   "metadata": {},
   "source": [
    "## Random Forest\n",
    "**Random Forest -** Random Forest is an ensemble machine learning algorithm used for both classification and regression tasks. It builds multiple decision trees during training and merges their predictions to improve accuracy and robustness. Each tree is trained on a subset of the data, and random subsets of features are considered at each split. The final prediction is determined by averaging (for regression) or voting (for classification) across the individual trees. Random Forest is known for its high performance, resistance to overfitting, and suitability for complex datasets with many features.\n",
    "* for more info. :- https://towardsdatascience.com/random-forest-classification-678e551462f5\n"
   ]
  },
  {
   "cell_type": "code",
   "execution_count": 76,
   "id": "6f515077",
   "metadata": {},
   "outputs": [],
   "source": [
    "from sklearn.ensemble import RandomForestClassifier"
   ]
  },
  {
   "cell_type": "code",
   "execution_count": 124,
   "id": "978a61d0",
   "metadata": {},
   "outputs": [],
   "source": [
    "rf_classifier = RandomForestClassifier(n_estimators=200, criterion='entropy',random_state=0, n_jobs= n_jobs)"
   ]
  },
  {
   "cell_type": "code",
   "execution_count": 125,
   "id": "948aa2ac",
   "metadata": {},
   "outputs": [
    {
     "data": {
      "text/plain": [
       "RandomForestClassifier(criterion='entropy', n_estimators=200, n_jobs=12,\n",
       "                       random_state=0)"
      ]
     },
     "execution_count": 125,
     "metadata": {},
     "output_type": "execute_result"
    }
   ],
   "source": [
    "rf_classifier.fit(x_train,y_train)"
   ]
  },
  {
   "cell_type": "code",
   "execution_count": 126,
   "id": "ce502c8b",
   "metadata": {},
   "outputs": [],
   "source": [
    "rf_y_pred = rf_classifier.predict(x_test)"
   ]
  },
  {
   "cell_type": "markdown",
   "id": "cee63866",
   "metadata": {},
   "source": [
    "#### Calculating Accuracy and Confusion matrix"
   ]
  },
  {
   "cell_type": "code",
   "execution_count": 127,
   "id": "c23c35eb",
   "metadata": {},
   "outputs": [
    {
     "data": {
      "text/plain": [
       "99.92141602044441"
      ]
     },
     "execution_count": 127,
     "metadata": {},
     "output_type": "execute_result"
    }
   ],
   "source": [
    "length_rf = len(rf_y_pred)\n",
    "accuracy_fn(y_test,rf_y_pred,length_rf)"
   ]
  },
  {
   "cell_type": "code",
   "execution_count": 128,
   "id": "059f00ea",
   "metadata": {},
   "outputs": [
    {
     "data": {
      "image/png": "[encoded data removed]",
      "text/plain": [
       "<Figure size 288x288 with 1 Axes>"
      ]
     },
     "metadata": {
      "needs_background": "light"
     },
     "output_type": "display_data"
    }
   ],
   "source": [
    "confusion_matrix_fun(y_test,rf_y_pred)"
   ]
  },
  {
   "cell_type": "markdown",
   "id": "ed5c4344",
   "metadata": {},
   "source": [
    "# Training model on Entire Dataset\n",
    "## We'll use *Random Forest algorithm* as they shows most promissing results."
   ]
  },
  {
   "cell_type": "code",
   "execution_count": 83,
   "id": "f75fba35",
   "metadata": {},
   "outputs": [
    {
     "data": {
      "text/html": [
       "<div>\n",
       "<style scoped>\n",
       "    .dataframe tbody tr th:only-of-type {\n",
       "        vertical-align: middle;\n",
       "    }\n",
       "\n",
       "    .dataframe tbody tr th {\n",
       "        vertical-align: top;\n",
       "    }\n",
       "\n",
       "    .dataframe thead th {\n",
       "        text-align: right;\n",
       "    }\n",
       "</style>\n",
       "<table border=\"1\" class=\"dataframe\">\n",
       "  <thead>\n",
       "    <tr style=\"text-align: right;\">\n",
       "      <th></th>\n",
       "      <th>0</th>\n",
       "      <th>1</th>\n",
       "      <th>2</th>\n",
       "      <th>3</th>\n",
       "      <th>4</th>\n",
       "      <th>5</th>\n",
       "      <th>6</th>\n",
       "      <th>7</th>\n",
       "      <th>8</th>\n",
       "      <th>9</th>\n",
       "      <th>10</th>\n",
       "    </tr>\n",
       "  </thead>\n",
       "  <tbody>\n",
       "    <tr>\n",
       "      <th>0</th>\n",
       "      <td>0.0</td>\n",
       "      <td>0.0</td>\n",
       "      <td>0.0</td>\n",
       "      <td>1.0</td>\n",
       "      <td>0.0</td>\n",
       "      <td>9839.64</td>\n",
       "      <td>170136.00</td>\n",
       "      <td>160296.36</td>\n",
       "      <td>0.0</td>\n",
       "      <td>0.00</td>\n",
       "      <td>0.0</td>\n",
       "    </tr>\n",
       "    <tr>\n",
       "      <th>1</th>\n",
       "      <td>0.0</td>\n",
       "      <td>0.0</td>\n",
       "      <td>0.0</td>\n",
       "      <td>1.0</td>\n",
       "      <td>0.0</td>\n",
       "      <td>1864.28</td>\n",
       "      <td>21249.00</td>\n",
       "      <td>19384.72</td>\n",
       "      <td>0.0</td>\n",
       "      <td>0.00</td>\n",
       "      <td>0.0</td>\n",
       "    </tr>\n",
       "    <tr>\n",
       "      <th>2</th>\n",
       "      <td>0.0</td>\n",
       "      <td>0.0</td>\n",
       "      <td>0.0</td>\n",
       "      <td>0.0</td>\n",
       "      <td>1.0</td>\n",
       "      <td>181.00</td>\n",
       "      <td>181.00</td>\n",
       "      <td>0.00</td>\n",
       "      <td>0.0</td>\n",
       "      <td>0.00</td>\n",
       "      <td>1.0</td>\n",
       "    </tr>\n",
       "    <tr>\n",
       "      <th>3</th>\n",
       "      <td>0.0</td>\n",
       "      <td>1.0</td>\n",
       "      <td>0.0</td>\n",
       "      <td>0.0</td>\n",
       "      <td>0.0</td>\n",
       "      <td>181.00</td>\n",
       "      <td>181.00</td>\n",
       "      <td>0.00</td>\n",
       "      <td>21182.0</td>\n",
       "      <td>0.00</td>\n",
       "      <td>1.0</td>\n",
       "    </tr>\n",
       "    <tr>\n",
       "      <th>4</th>\n",
       "      <td>0.0</td>\n",
       "      <td>0.0</td>\n",
       "      <td>0.0</td>\n",
       "      <td>1.0</td>\n",
       "      <td>0.0</td>\n",
       "      <td>11668.14</td>\n",
       "      <td>41554.00</td>\n",
       "      <td>29885.86</td>\n",
       "      <td>0.0</td>\n",
       "      <td>0.00</td>\n",
       "      <td>0.0</td>\n",
       "    </tr>\n",
       "    <tr>\n",
       "      <th>5</th>\n",
       "      <td>0.0</td>\n",
       "      <td>0.0</td>\n",
       "      <td>0.0</td>\n",
       "      <td>1.0</td>\n",
       "      <td>0.0</td>\n",
       "      <td>7817.71</td>\n",
       "      <td>53860.00</td>\n",
       "      <td>46042.29</td>\n",
       "      <td>0.0</td>\n",
       "      <td>0.00</td>\n",
       "      <td>0.0</td>\n",
       "    </tr>\n",
       "    <tr>\n",
       "      <th>6</th>\n",
       "      <td>0.0</td>\n",
       "      <td>0.0</td>\n",
       "      <td>0.0</td>\n",
       "      <td>1.0</td>\n",
       "      <td>0.0</td>\n",
       "      <td>7107.77</td>\n",
       "      <td>183195.00</td>\n",
       "      <td>176087.23</td>\n",
       "      <td>0.0</td>\n",
       "      <td>0.00</td>\n",
       "      <td>0.0</td>\n",
       "    </tr>\n",
       "    <tr>\n",
       "      <th>7</th>\n",
       "      <td>0.0</td>\n",
       "      <td>0.0</td>\n",
       "      <td>0.0</td>\n",
       "      <td>1.0</td>\n",
       "      <td>0.0</td>\n",
       "      <td>7861.64</td>\n",
       "      <td>176087.23</td>\n",
       "      <td>168225.59</td>\n",
       "      <td>0.0</td>\n",
       "      <td>0.00</td>\n",
       "      <td>0.0</td>\n",
       "    </tr>\n",
       "    <tr>\n",
       "      <th>8</th>\n",
       "      <td>0.0</td>\n",
       "      <td>0.0</td>\n",
       "      <td>0.0</td>\n",
       "      <td>1.0</td>\n",
       "      <td>0.0</td>\n",
       "      <td>4024.36</td>\n",
       "      <td>2671.00</td>\n",
       "      <td>0.00</td>\n",
       "      <td>0.0</td>\n",
       "      <td>0.00</td>\n",
       "      <td>0.0</td>\n",
       "    </tr>\n",
       "    <tr>\n",
       "      <th>9</th>\n",
       "      <td>0.0</td>\n",
       "      <td>0.0</td>\n",
       "      <td>1.0</td>\n",
       "      <td>0.0</td>\n",
       "      <td>0.0</td>\n",
       "      <td>5337.77</td>\n",
       "      <td>41720.00</td>\n",
       "      <td>36382.23</td>\n",
       "      <td>41898.0</td>\n",
       "      <td>40348.79</td>\n",
       "      <td>0.0</td>\n",
       "    </tr>\n",
       "  </tbody>\n",
       "</table>\n",
       "</div>"
      ],
      "text/plain": [
       "    0    1    2    3    4         5          6          7        8         9   \\\n",
       "0  0.0  0.0  0.0  1.0  0.0   9839.64  170136.00  160296.36      0.0      0.00   \n",
       "1  0.0  0.0  0.0  1.0  0.0   1864.28   21249.00   19384.72      0.0      0.00   \n",
       "2  0.0  0.0  0.0  0.0  1.0    181.00     181.00       0.00      0.0      0.00   \n",
       "3  0.0  1.0  0.0  0.0  0.0    181.00     181.00       0.00  21182.0      0.00   \n",
       "4  0.0  0.0  0.0  1.0  0.0  11668.14   41554.00   29885.86      0.0      0.00   \n",
       "5  0.0  0.0  0.0  1.0  0.0   7817.71   53860.00   46042.29      0.0      0.00   \n",
       "6  0.0  0.0  0.0  1.0  0.0   7107.77  183195.00  176087.23      0.0      0.00   \n",
       "7  0.0  0.0  0.0  1.0  0.0   7861.64  176087.23  168225.59      0.0      0.00   \n",
       "8  0.0  0.0  0.0  1.0  0.0   4024.36    2671.00       0.00      0.0      0.00   \n",
       "9  0.0  0.0  1.0  0.0  0.0   5337.77   41720.00   36382.23  41898.0  40348.79   \n",
       "\n",
       "    10  \n",
       "0  0.0  \n",
       "1  0.0  \n",
       "2  1.0  \n",
       "3  1.0  \n",
       "4  0.0  \n",
       "5  0.0  \n",
       "6  0.0  \n",
       "7  0.0  \n",
       "8  0.0  \n",
       "9  0.0  "
      ]
     },
     "execution_count": 83,
     "metadata": {},
     "output_type": "execute_result"
    }
   ],
   "source": [
    "t_data.head(n=10)"
   ]
  },
  {
   "cell_type": "code",
   "execution_count": 84,
   "id": "d182e6ee",
   "metadata": {},
   "outputs": [],
   "source": [
    "x_all = t_data.iloc[:,:-1]\n",
    "y_all = t_data.iloc[:,-1]"
   ]
  },
  {
   "cell_type": "code",
   "execution_count": 85,
   "id": "8661a495",
   "metadata": {},
   "outputs": [
    {
     "data": {
      "text/html": [
       "<div>\n",
       "<style scoped>\n",
       "    .dataframe tbody tr th:only-of-type {\n",
       "        vertical-align: middle;\n",
       "    }\n",
       "\n",
       "    .dataframe tbody tr th {\n",
       "        vertical-align: top;\n",
       "    }\n",
       "\n",
       "    .dataframe thead th {\n",
       "        text-align: right;\n",
       "    }\n",
       "</style>\n",
       "<table border=\"1\" class=\"dataframe\">\n",
       "  <thead>\n",
       "    <tr style=\"text-align: right;\">\n",
       "      <th></th>\n",
       "      <th>0</th>\n",
       "      <th>1</th>\n",
       "      <th>2</th>\n",
       "      <th>3</th>\n",
       "      <th>4</th>\n",
       "      <th>5</th>\n",
       "      <th>6</th>\n",
       "      <th>7</th>\n",
       "      <th>8</th>\n",
       "      <th>9</th>\n",
       "    </tr>\n",
       "  </thead>\n",
       "  <tbody>\n",
       "    <tr>\n",
       "      <th>0</th>\n",
       "      <td>0.0</td>\n",
       "      <td>0.0</td>\n",
       "      <td>0.0</td>\n",
       "      <td>1.0</td>\n",
       "      <td>0.0</td>\n",
       "      <td>9839.64</td>\n",
       "      <td>170136.0</td>\n",
       "      <td>160296.36</td>\n",
       "      <td>0.0</td>\n",
       "      <td>0.0</td>\n",
       "    </tr>\n",
       "    <tr>\n",
       "      <th>1</th>\n",
       "      <td>0.0</td>\n",
       "      <td>0.0</td>\n",
       "      <td>0.0</td>\n",
       "      <td>1.0</td>\n",
       "      <td>0.0</td>\n",
       "      <td>1864.28</td>\n",
       "      <td>21249.0</td>\n",
       "      <td>19384.72</td>\n",
       "      <td>0.0</td>\n",
       "      <td>0.0</td>\n",
       "    </tr>\n",
       "    <tr>\n",
       "      <th>2</th>\n",
       "      <td>0.0</td>\n",
       "      <td>0.0</td>\n",
       "      <td>0.0</td>\n",
       "      <td>0.0</td>\n",
       "      <td>1.0</td>\n",
       "      <td>181.00</td>\n",
       "      <td>181.0</td>\n",
       "      <td>0.00</td>\n",
       "      <td>0.0</td>\n",
       "      <td>0.0</td>\n",
       "    </tr>\n",
       "    <tr>\n",
       "      <th>3</th>\n",
       "      <td>0.0</td>\n",
       "      <td>1.0</td>\n",
       "      <td>0.0</td>\n",
       "      <td>0.0</td>\n",
       "      <td>0.0</td>\n",
       "      <td>181.00</td>\n",
       "      <td>181.0</td>\n",
       "      <td>0.00</td>\n",
       "      <td>21182.0</td>\n",
       "      <td>0.0</td>\n",
       "    </tr>\n",
       "    <tr>\n",
       "      <th>4</th>\n",
       "      <td>0.0</td>\n",
       "      <td>0.0</td>\n",
       "      <td>0.0</td>\n",
       "      <td>1.0</td>\n",
       "      <td>0.0</td>\n",
       "      <td>11668.14</td>\n",
       "      <td>41554.0</td>\n",
       "      <td>29885.86</td>\n",
       "      <td>0.0</td>\n",
       "      <td>0.0</td>\n",
       "    </tr>\n",
       "  </tbody>\n",
       "</table>\n",
       "</div>"
      ],
      "text/plain": [
       "     0    1    2    3    4         5         6          7        8    9\n",
       "0  0.0  0.0  0.0  1.0  0.0   9839.64  170136.0  160296.36      0.0  0.0\n",
       "1  0.0  0.0  0.0  1.0  0.0   1864.28   21249.0   19384.72      0.0  0.0\n",
       "2  0.0  0.0  0.0  0.0  1.0    181.00     181.0       0.00      0.0  0.0\n",
       "3  0.0  1.0  0.0  0.0  0.0    181.00     181.0       0.00  21182.0  0.0\n",
       "4  0.0  0.0  0.0  1.0  0.0  11668.14   41554.0   29885.86      0.0  0.0"
      ]
     },
     "execution_count": 85,
     "metadata": {},
     "output_type": "execute_result"
    }
   ],
   "source": [
    "x_all.head()"
   ]
  },
  {
   "cell_type": "code",
   "execution_count": 86,
   "id": "56988508",
   "metadata": {},
   "outputs": [
    {
     "data": {
      "text/plain": [
       "(6362620, 10)"
      ]
     },
     "execution_count": 86,
     "metadata": {},
     "output_type": "execute_result"
    }
   ],
   "source": [
    "x_all.shape"
   ]
  },
  {
   "cell_type": "markdown",
   "id": "f6427418",
   "metadata": {},
   "source": [
    "### Creating Training and Test Datasets"
   ]
  },
  {
   "cell_type": "code",
   "execution_count": 87,
   "id": "623ea446",
   "metadata": {},
   "outputs": [],
   "source": [
    "x_all_train,x_all_test,y_all_train,y_all_test = train_test_split(x_all,y_all,test_size= 0.2,random_state= 1,shuffle= True)"
   ]
  },
  {
   "cell_type": "code",
   "execution_count": 88,
   "id": "f3cc9bc1",
   "metadata": {},
   "outputs": [
    {
     "data": {
      "text/html": [
       "<div>\n",
       "<style scoped>\n",
       "    .dataframe tbody tr th:only-of-type {\n",
       "        vertical-align: middle;\n",
       "    }\n",
       "\n",
       "    .dataframe tbody tr th {\n",
       "        vertical-align: top;\n",
       "    }\n",
       "\n",
       "    .dataframe thead th {\n",
       "        text-align: right;\n",
       "    }\n",
       "</style>\n",
       "<table border=\"1\" class=\"dataframe\">\n",
       "  <thead>\n",
       "    <tr style=\"text-align: right;\">\n",
       "      <th></th>\n",
       "      <th>0</th>\n",
       "      <th>1</th>\n",
       "      <th>2</th>\n",
       "      <th>3</th>\n",
       "      <th>4</th>\n",
       "      <th>5</th>\n",
       "      <th>6</th>\n",
       "      <th>7</th>\n",
       "      <th>8</th>\n",
       "      <th>9</th>\n",
       "    </tr>\n",
       "  </thead>\n",
       "  <tbody>\n",
       "    <tr>\n",
       "      <th>2276631</th>\n",
       "      <td>0.0</td>\n",
       "      <td>0.0</td>\n",
       "      <td>0.0</td>\n",
       "      <td>1.0</td>\n",
       "      <td>0.0</td>\n",
       "      <td>1607.27</td>\n",
       "      <td>0.00</td>\n",
       "      <td>0.00</td>\n",
       "      <td>0.00</td>\n",
       "      <td>0.00</td>\n",
       "    </tr>\n",
       "    <tr>\n",
       "      <th>1580855</th>\n",
       "      <td>0.0</td>\n",
       "      <td>0.0</td>\n",
       "      <td>0.0</td>\n",
       "      <td>1.0</td>\n",
       "      <td>0.0</td>\n",
       "      <td>16958.15</td>\n",
       "      <td>416.00</td>\n",
       "      <td>0.00</td>\n",
       "      <td>0.00</td>\n",
       "      <td>0.00</td>\n",
       "    </tr>\n",
       "    <tr>\n",
       "      <th>1080958</th>\n",
       "      <td>0.0</td>\n",
       "      <td>1.0</td>\n",
       "      <td>0.0</td>\n",
       "      <td>0.0</td>\n",
       "      <td>0.0</td>\n",
       "      <td>249226.07</td>\n",
       "      <td>11335.00</td>\n",
       "      <td>0.00</td>\n",
       "      <td>0.00</td>\n",
       "      <td>155927.95</td>\n",
       "    </tr>\n",
       "    <tr>\n",
       "      <th>4557677</th>\n",
       "      <td>1.0</td>\n",
       "      <td>0.0</td>\n",
       "      <td>0.0</td>\n",
       "      <td>0.0</td>\n",
       "      <td>0.0</td>\n",
       "      <td>217722.54</td>\n",
       "      <td>4383327.55</td>\n",
       "      <td>4601050.10</td>\n",
       "      <td>3507554.23</td>\n",
       "      <td>3289831.69</td>\n",
       "    </tr>\n",
       "    <tr>\n",
       "      <th>3092419</th>\n",
       "      <td>1.0</td>\n",
       "      <td>0.0</td>\n",
       "      <td>0.0</td>\n",
       "      <td>0.0</td>\n",
       "      <td>0.0</td>\n",
       "      <td>34150.62</td>\n",
       "      <td>5735503.44</td>\n",
       "      <td>5769654.06</td>\n",
       "      <td>228360.12</td>\n",
       "      <td>194209.50</td>\n",
       "    </tr>\n",
       "  </tbody>\n",
       "</table>\n",
       "</div>"
      ],
      "text/plain": [
       "           0    1    2    3    4          5           6           7  \\\n",
       "2276631  0.0  0.0  0.0  1.0  0.0    1607.27        0.00        0.00   \n",
       "1580855  0.0  0.0  0.0  1.0  0.0   16958.15      416.00        0.00   \n",
       "1080958  0.0  1.0  0.0  0.0  0.0  249226.07    11335.00        0.00   \n",
       "4557677  1.0  0.0  0.0  0.0  0.0  217722.54  4383327.55  4601050.10   \n",
       "3092419  1.0  0.0  0.0  0.0  0.0   34150.62  5735503.44  5769654.06   \n",
       "\n",
       "                  8           9  \n",
       "2276631        0.00        0.00  \n",
       "1580855        0.00        0.00  \n",
       "1080958        0.00   155927.95  \n",
       "4557677  3507554.23  3289831.69  \n",
       "3092419   228360.12   194209.50  "
      ]
     },
     "execution_count": 88,
     "metadata": {},
     "output_type": "execute_result"
    }
   ],
   "source": [
    "x_all_train.head()"
   ]
  },
  {
   "cell_type": "markdown",
   "id": "54708f08",
   "metadata": {},
   "source": [
    "### Feature Scaling"
   ]
  },
  {
   "cell_type": "code",
   "execution_count": 89,
   "id": "4c3eeb97",
   "metadata": {},
   "outputs": [
    {
     "name": "stderr",
     "output_type": "stream",
     "text": [
      "<ipython-input-89-4f925177c747>:1: SettingWithCopyWarning: \n",
      "A value is trying to be set on a copy of a slice from a DataFrame\n",
      "\n",
      "See the caveats in the documentation: https://pandas.pydata.org/pandas-docs/stable/user_guide/indexing.html#returning-a-view-versus-a-copy\n",
      "  x_all_train.iloc[:,5:] = sc.fit_transform(x_all_train.iloc[:,5:])\n",
      "<ipython-input-89-4f925177c747>:2: SettingWithCopyWarning: \n",
      "A value is trying to be set on a copy of a slice from a DataFrame\n",
      "\n",
      "See the caveats in the documentation: https://pandas.pydata.org/pandas-docs/stable/user_guide/indexing.html#returning-a-view-versus-a-copy\n",
      "  x_all_test.iloc[:,5:] = sc.fit_transform(x_all_test.iloc[:,5:])\n"
     ]
    }
   ],
   "source": [
    "x_all_train.iloc[:,5:] = sc.fit_transform(x_all_train.iloc[:,5:])\n",
    "x_all_test.iloc[:,5:] = sc.fit_transform(x_all_test.iloc[:,5:])"
   ]
  },
  {
   "cell_type": "code",
   "execution_count": 90,
   "id": "959bd287",
   "metadata": {},
   "outputs": [
    {
     "data": {
      "text/html": [
       "<div>\n",
       "<style scoped>\n",
       "    .dataframe tbody tr th:only-of-type {\n",
       "        vertical-align: middle;\n",
       "    }\n",
       "\n",
       "    .dataframe tbody tr th {\n",
       "        vertical-align: top;\n",
       "    }\n",
       "\n",
       "    .dataframe thead th {\n",
       "        text-align: right;\n",
       "    }\n",
       "</style>\n",
       "<table border=\"1\" class=\"dataframe\">\n",
       "  <thead>\n",
       "    <tr style=\"text-align: right;\">\n",
       "      <th></th>\n",
       "      <th>0</th>\n",
       "      <th>1</th>\n",
       "      <th>2</th>\n",
       "      <th>3</th>\n",
       "      <th>4</th>\n",
       "      <th>5</th>\n",
       "      <th>6</th>\n",
       "      <th>7</th>\n",
       "      <th>8</th>\n",
       "      <th>9</th>\n",
       "    </tr>\n",
       "  </thead>\n",
       "  <tbody>\n",
       "    <tr>\n",
       "      <th>2276631</th>\n",
       "      <td>0.0</td>\n",
       "      <td>0.0</td>\n",
       "      <td>0.0</td>\n",
       "      <td>1.0</td>\n",
       "      <td>0.0</td>\n",
       "      <td>-0.294472</td>\n",
       "      <td>-0.288640</td>\n",
       "      <td>-0.292359</td>\n",
       "      <td>-0.324045</td>\n",
       "      <td>-0.333521</td>\n",
       "    </tr>\n",
       "    <tr>\n",
       "      <th>1580855</th>\n",
       "      <td>0.0</td>\n",
       "      <td>0.0</td>\n",
       "      <td>0.0</td>\n",
       "      <td>1.0</td>\n",
       "      <td>0.0</td>\n",
       "      <td>-0.269117</td>\n",
       "      <td>-0.288496</td>\n",
       "      <td>-0.292359</td>\n",
       "      <td>-0.324045</td>\n",
       "      <td>-0.333521</td>\n",
       "    </tr>\n",
       "    <tr>\n",
       "      <th>1080958</th>\n",
       "      <td>0.0</td>\n",
       "      <td>1.0</td>\n",
       "      <td>0.0</td>\n",
       "      <td>0.0</td>\n",
       "      <td>0.0</td>\n",
       "      <td>0.114513</td>\n",
       "      <td>-0.284716</td>\n",
       "      <td>-0.292359</td>\n",
       "      <td>-0.324045</td>\n",
       "      <td>-0.291079</td>\n",
       "    </tr>\n",
       "    <tr>\n",
       "      <th>4557677</th>\n",
       "      <td>1.0</td>\n",
       "      <td>0.0</td>\n",
       "      <td>0.0</td>\n",
       "      <td>0.0</td>\n",
       "      <td>0.0</td>\n",
       "      <td>0.062480</td>\n",
       "      <td>1.229113</td>\n",
       "      <td>1.281290</td>\n",
       "      <td>0.708309</td>\n",
       "      <td>0.561936</td>\n",
       "    </tr>\n",
       "    <tr>\n",
       "      <th>3092419</th>\n",
       "      <td>1.0</td>\n",
       "      <td>0.0</td>\n",
       "      <td>0.0</td>\n",
       "      <td>0.0</td>\n",
       "      <td>0.0</td>\n",
       "      <td>-0.240721</td>\n",
       "      <td>1.697312</td>\n",
       "      <td>1.680975</td>\n",
       "      <td>-0.256834</td>\n",
       "      <td>-0.280659</td>\n",
       "    </tr>\n",
       "  </tbody>\n",
       "</table>\n",
       "</div>"
      ],
      "text/plain": [
       "           0    1    2    3    4         5         6         7         8  \\\n",
       "2276631  0.0  0.0  0.0  1.0  0.0 -0.294472 -0.288640 -0.292359 -0.324045   \n",
       "1580855  0.0  0.0  0.0  1.0  0.0 -0.269117 -0.288496 -0.292359 -0.324045   \n",
       "1080958  0.0  1.0  0.0  0.0  0.0  0.114513 -0.284716 -0.292359 -0.324045   \n",
       "4557677  1.0  0.0  0.0  0.0  0.0  0.062480  1.229113  1.281290  0.708309   \n",
       "3092419  1.0  0.0  0.0  0.0  0.0 -0.240721  1.697312  1.680975 -0.256834   \n",
       "\n",
       "                9  \n",
       "2276631 -0.333521  \n",
       "1580855 -0.333521  \n",
       "1080958 -0.291079  \n",
       "4557677  0.561936  \n",
       "3092419 -0.280659  "
      ]
     },
     "execution_count": 90,
     "metadata": {},
     "output_type": "execute_result"
    }
   ],
   "source": [
    "x_all_train.head()"
   ]
  },
  {
   "cell_type": "code",
   "execution_count": 91,
   "id": "73eedc04",
   "metadata": {},
   "outputs": [],
   "source": [
    "#Converting all to numpy array\n",
    "x_all_train = np.array(x_all_train)\n",
    "x_all_test = np.array(x_all_test)\n",
    "y_all_train = np.array(y_all_train)\n",
    "y_all_test = np.array(y_all_test)\n"
   ]
  },
  {
   "cell_type": "markdown",
   "id": "9b1225b6",
   "metadata": {},
   "source": [
    "## Random Forest for entire dataset"
   ]
  },
  {
   "cell_type": "code",
   "execution_count": 129,
   "id": "6d0df52a",
   "metadata": {},
   "outputs": [
    {
     "data": {
      "text/plain": [
       "RandomForestClassifier(criterion='entropy', n_estimators=200, n_jobs=12,\n",
       "                       random_state=0)"
      ]
     },
     "execution_count": 129,
     "metadata": {},
     "output_type": "execute_result"
    }
   ],
   "source": [
    "rf_classifier.fit(x_all_train,y_all_train)"
   ]
  },
  {
   "cell_type": "code",
   "execution_count": 130,
   "id": "0c7f3506",
   "metadata": {},
   "outputs": [],
   "source": [
    "rf_y_all_pred = rf_classifier.predict(x_all_test)"
   ]
  },
  {
   "cell_type": "markdown",
   "id": "9786304c",
   "metadata": {},
   "source": [
    "#### Calculating Confusion matrix and Accuracy."
   ]
  },
  {
   "cell_type": "code",
   "execution_count": 131,
   "id": "af9c3511",
   "metadata": {},
   "outputs": [
    {
     "data": {
      "text/plain": [
       "1272524"
      ]
     },
     "execution_count": 131,
     "metadata": {},
     "output_type": "execute_result"
    }
   ],
   "source": [
    "length_all = len(rf_y_all_pred)\n",
    "length_all"
   ]
  },
  {
   "cell_type": "code",
   "execution_count": 132,
   "id": "db673641",
   "metadata": {},
   "outputs": [
    {
     "data": {
      "text/plain": [
       "99.76"
      ]
     },
     "execution_count": 132,
     "metadata": {},
     "output_type": "execute_result"
    }
   ],
   "source": [
    "round(accuracy_fn(y_all_test,rf_y_all_pred,length_all),2)"
   ]
  },
  {
   "cell_type": "code",
   "execution_count": 133,
   "id": "56c7763b",
   "metadata": {},
   "outputs": [
    {
     "data": {
      "image/png": "[encoded data removed]",
      "text/plain": [
       "<Figure size 288x288 with 1 Axes>"
      ]
     },
     "metadata": {
      "needs_background": "light"
     },
     "output_type": "display_data"
    }
   ],
   "source": [
    "confusion_matrix_fun(y_all_test,rf_y_all_pred)"
   ]
  },
  {
   "cell_type": "markdown",
   "id": "71c99c06",
   "metadata": {},
   "source": [
    "# Summary"
   ]
  },
  {
   "cell_type": "markdown",
   "id": "aeeac593",
   "metadata": {},
   "source": [
    "### Distribution of Classes:\n",
    "* The majority of transactions are normal (non-fraudulent), indicating a class imbalance.\n",
    "* The percentage of fraud transactions is notably low, emphasizing the rarity of fraudulent activities.\n",
    "\n",
    "### Cashflow Analysis:\n",
    "* The analysis reveals that the largest sum of money flows through Transfer and Cash-out transactions.\n",
    "* Cash-ins and Payments follow, with significantly lower amounts involved.\n",
    "  Debit transactions have the least monetary flow.\n",
    "  \n",
    "### Amount Transfer Range:\n",
    "* Fraud analysis indicates that fraudulent transactions often occur within a lower total amount transfer range.\n",
    "* Understanding this pattern can aid in setting thresholds for anomaly detection and enhancing fraud prevention measures.\n",
    "\n",
    "### Transaction Types Involved in Frauds:\n",
    "* Only two transaction types, Transfer (4116 instances) and Cash-out (4097 instances), are associated with fraud.\n",
    "* Both types occur with similar frequencies, suggesting a potential pattern in fraudulent activities related to these transaction types.\n",
    "\n",
    "### Recipient Analysis in Frauds:\n",
    "\n",
    "* Examining fraud occurrences reveals whether fraud tends to occur more frequently on the recipient side.\n",
    "* It investigates whether recipients receive less or more money than expected, shedding light on potential patterns in fraudulent activities.\n",
    "\n",
    "### Accuracy of Existing Fraud Detector:\n",
    "\n",
    "* The existing fraud detection model exhibits low accuracy, as it tends to classify nearly every transaction as valid.\n",
    "* The model's performance raises concerns about its effectiveness in distinguishing between fraudulent and legitimate transactions.\n",
    "\n",
    "### Performance of ML Models:\n",
    "\n",
    "* Out of four ML models evaluated, Random Forest demonstrates the highest accuracy.\n",
    "* On the sample dataset, Random Forest achieves an accuracy of 99.93%, while on the entire dataset, it maintains a high accuracy of 99.76%.\n",
    "* The superior performance of Random Forest suggests its effectiveness in accurately classifying transactions in this context.\n",
    "\n",
    "\n",
    "\n",
    "\n",
    "\n",
    "\n",
    "\n",
    "\n",
    "\n",
    "\n",
    "\n",
    "\n"
   ]
  },
  {
   "cell_type": "markdown",
   "id": "fdf0635a",
   "metadata": {},
   "source": [
    "# Solutions"
   ]
  },
  {
   "cell_type": "markdown",
   "id": "31f866fc",
   "metadata": {},
   "source": [
    "### Fragmented Database for Enhanced Surveillance:\n",
    "\n",
    "* To implement targeted surveillance, the database must be divided into several fragments.\n",
    "\n",
    "* It is these lower amount transactions that need to be prioritized with strong surveillance measures.\n",
    "\n",
    "* This strategy aims to enhance the speed and effectiveness of fraud detection for low-value transactions by focusing resources where the risk is higher.\n",
    "\n",
    "### Specialized Model Training for Fraud Detection:\n",
    "\n",
    "* In view of this, it may be necessary to train the model on only two types of transactions which are involved in fraud consistently throughout.\n",
    "\n",
    "* Specializing the model for these specific types can potentially improve accuracy and expedite fraud detection, as the model becomes finely tuned to recognize patterns relevant to fraudulent activity in those transaction categories.\n",
    "\n",
    "### Surveillance Focused on Transfers and Cash-Outs:\n",
    "\n",
    "* Given that transfers and cash-outs form a significant proportion of most transactions, priority should be laid on specialized surveillance measures targeting such transactions.\n",
    "\n",
    "* This targeted approach allows for concentrated monitoring where the transaction volume is high, optimizing resources for enhanced fraud detection in these critical transaction types.\n",
    "\n",
    "### Fragmented Database with Specialized Fraud Detection:\n",
    "\n",
    "* Divide the database into fragments based on transaction characteristics, concentrating on specific subsets with unique patterns.\n",
    "* Build specialized fraud detectors for each fragment, tailoring models to the distinctive features within those subsets.\n",
    "* This approach aims to increase accuracy and accelerate fraud detection by customizing models to the nuances of different fragments, optimizing performance for specific transaction profiles."
   ]
  }
 ],
 "metadata": {
  "kernelspec": {
   "display_name": "Python 3",
   "language": "python",
   "name": "python3"
  },
  "language_info": {
   "codemirror_mode": {
    "name": "ipython",
    "version": 3
   },
   "file_extension": ".py",
   "mimetype": "text/x-python",
   "name": "python",
   "nbconvert_exporter": "python",
   "pygments_lexer": "ipython3",
   "version": "3.8.8"
  }
 },
 "nbformat": 4,
 "nbformat_minor": 5
}
